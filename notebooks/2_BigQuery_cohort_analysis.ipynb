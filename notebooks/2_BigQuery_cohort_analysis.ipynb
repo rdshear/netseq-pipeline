{
 "cells": [
  {
   "cell_type": "markdown",
   "metadata": {},
   "source": [
    "## Notebook overview <a class=\"tocSkip\">"
   ]
  },
  {
   "cell_type": "markdown",
   "metadata": {},
   "source": [
    "## Install additional R packages\n",
    "\n",
    "Many notebooks reference additional packages and libraries, which you will install in this section.  "
   ]
  },
  {
   "cell_type": "code",
   "execution_count": 1,
   "metadata": {
    "code_folding": []
   },
   "outputs": [],
   "source": [
    "# The bigrquery package makes it easy to work with data stored in Google BigQuery by allowing you to query \n",
    "# BigQuery tables and retrieve metadata about your projects, datasets, tables, and jobs\n",
    "library(bigrquery)\n",
    "\n",
    "# ggplot2 is a library of integrated plotting functions\n",
    "library(ggplot2)"
   ]
  },
  {
   "cell_type": "markdown",
   "metadata": {},
   "source": [
    "Next we need to allow the notebook kernel, which is on a virtual machine, to speak to the workspace, which is mounted to a google bucket. The program that does this, called FISS (Firecloud Service Selector), is a Python module that allows API (Application Programming Interface) calls from the notebook to the workspace.     "
   ]
  },
  {
   "cell_type": "code",
   "execution_count": 2,
   "metadata": {
    "code_folding": []
   },
   "outputs": [],
   "source": [
    "# The reticulate package translates Python code into R code, so we can use Python commands in \n",
    "# this R notebook (remember FISS is a Python module)\n",
    "library(reticulate)"
   ]
  },
  {
   "cell_type": "code",
   "execution_count": 4,
   "metadata": {
    "code_folding": []
   },
   "outputs": [],
   "source": [
    "# Import Firecloud Service Selector (FISS) modules using reticulate\n",
    "os <- import(\"os\")\n",
    "firecloud <- import(\"firecloud\")\n",
    "fiss <- import(\"firecloud.fiss\")"
   ]
  },
  {
   "cell_type": "markdown",
   "metadata": {},
   "source": [
    "## Set project globals\n",
    "\n",
    "These next few code cells set global variables, like the workspace name, automatically. This way, the notebook can be used in multiple workspaces with different project names and different billing projects without any manual adjustments."
   ]
  },
  {
   "cell_type": "code",
   "execution_count": 6,
   "metadata": {
    "code_folding": []
   },
   "outputs": [],
   "source": [
    "# Set the project variables. Using variables ensures this notebook works without having to manually\n",
    "# retype the project or workspace names (when copied to another workspace, for example)\n",
    "PROJECT <- Sys.getenv('GOOGLE_PROJECT')\n",
    "WORKSPACE <- os$path$basename(os$path$dirname(os$getcwd()))"
   ]
  },
  {
   "cell_type": "code",
   "execution_count": 13,
   "metadata": {
    "code_folding": []
   },
   "outputs": [],
   "source": [
    "# Set the project ID of the clould project to bill for queries to BigQuery\n",
    "BILLING_PROJECT_ID <- Sys.getenv('GOOGLE_PROJECT')"
   ]
  },
  {
   "cell_type": "code",
   "execution_count": 7,
   "metadata": {},
   "outputs": [],
   "source": [
    "# To use access BigQuery, you must first autheniticate, or verify your identity.\n",
    "# This code cell does that\n",
    "bq_auth(path=WORKSPACE)"
   ]
  },
  {
   "cell_type": "markdown",
   "metadata": {},
   "source": [
    "# Get the cohort query\n",
    "\n",
    "In this section, we are going to pull information from the \"cohort\" table you created at the beginning of this tutorial into the notebook environment. We'll use the workspace variables and FISS to accomplish this. "
   ]
  },
  {
   "cell_type": "code",
   "execution_count": 8,
   "metadata": {
    "code_folding": []
   },
   "outputs": [],
   "source": [
    "# The FISS module that communicates between the notebook environment and Terra is in Python\n",
    "# So the first step is to create Python versions of the workspace and project variables\n",
    "workspace = r_to_py(WORKSPACE)\n",
    "project = r_to_py(PROJECT)"
   ]
  },
  {
   "cell_type": "code",
   "execution_count": null,
   "metadata": {},
   "outputs": [],
   "source": []
  },
  {
   "cell_type": "code",
   "execution_count": 9,
   "metadata": {
    "code_folding": [],
    "scrolled": true
   },
   "outputs": [],
   "source": [
    "# Bring information from the \"cohort\" table into a notebook variable \"cohort_entity\".\n",
    "cohort_entity<- fiss$fapi$get_entities(project,workspace,\"cohort\")$json()"
   ]
  },
  {
   "cell_type": "code",
   "execution_count": null,
   "metadata": {},
   "outputs": [],
   "source": []
  },
  {
   "cell_type": "code",
   "execution_count": 10,
   "metadata": {
    "code_folding": []
   },
   "outputs": [],
   "source": [
    "# From the first row in the `cohort` table, find the column with the header \"query\" and save this information \n",
    "# as a variable \"cohort_query\"     \n",
    "cohort_query <- cohort_entity[[1]][['attributes']][['query']]"
   ]
  },
  {
   "cell_type": "code",
   "execution_count": 11,
   "metadata": {
    "code_folding": [],
    "scrolled": true
   },
   "outputs": [
    {
     "data": {
      "text/html": [
       "<ol>\n",
       "\t<li><dl>\n",
       "\t<dt>$attributes</dt>\n",
       "\t\t<dd><dl>\n",
       "\t<dt>$query</dt>\n",
       "\t\t<dd>'SELECT DISTINCT t1.participant_id FROM ((SELECT participant_id FROM `verily-public-data.human_genome_variants.1000_genomes_participant_info` WHERE (Super_Population_Description = \"European\")) INTERSECT DISTINCT (SELECT participant_id FROM `verily-public-data.human_genome_variants.1000_genomes_participant_info` WHERE (Population_Description = \"British in England and Scotland\"))) t1'</dd>\n",
       "\t<dt>$data_explorer_url</dt>\n",
       "\t\t<dd>'https://app.terra.bio/#library/datasets/1000 Genomes/data-explorer?filter=verily-public-data.human_genome_variants.1000_genomes_participant_info.Super_Population_Description%253DEuropean%257Cverily-public-data.human_genome_variants.1000_genomes_participant_info.Population_Description%253DBritish+in+England+and+Scotland&amp;extraFacets='</dd>\n",
       "\t<dt>$dataset_name</dt>\n",
       "\t\t<dd>'1000 Genomes'</dd>\n",
       "</dl>\n",
       "</dd>\n",
       "\t<dt>$entityType</dt>\n",
       "\t\t<dd>'cohort'</dd>\n",
       "\t<dt>$name</dt>\n",
       "\t\t<dd>'1000G-British'</dd>\n",
       "</dl>\n",
       "</li>\n",
       "</ol>\n"
      ],
      "text/latex": [
       "\\begin{enumerate}\n",
       "\\item \\begin{description}\n",
       "\\item[\\$attributes] \\begin{description}\n",
       "\\item[\\$query] 'SELECT DISTINCT t1.participant\\_id FROM ((SELECT participant\\_id FROM `verily-public-data.human\\_genome\\_variants.1000\\_genomes\\_participant\\_info` WHERE (Super\\_Population\\_Description = \"European\")) INTERSECT DISTINCT (SELECT participant\\_id FROM `verily-public-data.human\\_genome\\_variants.1000\\_genomes\\_participant\\_info` WHERE (Population\\_Description = \"British in England and Scotland\"))) t1'\n",
       "\\item[\\$data\\_explorer\\_url] 'https://app.terra.bio/\\#library/datasets/1000 Genomes/data-explorer?filter=verily-public-data.human\\_genome\\_variants.1000\\_genomes\\_participant\\_info.Super\\_Population\\_Description\\%253DEuropean\\%257Cverily-public-data.human\\_genome\\_variants.1000\\_genomes\\_participant\\_info.Population\\_Description\\%253DBritish+in+England+and+Scotland\\&extraFacets='\n",
       "\\item[\\$dataset\\_name] '1000 Genomes'\n",
       "\\end{description}\n",
       "\n",
       "\\item[\\$entityType] 'cohort'\n",
       "\\item[\\$name] '1000G-British'\n",
       "\\end{description}\n",
       "\n",
       "\\end{enumerate}\n"
      ],
      "text/markdown": [
       "1. $attributes\n",
       ":   $query\n",
       ":   'SELECT DISTINCT t1.participant_id FROM ((SELECT participant_id FROM `verily-public-data.human_genome_variants.1000_genomes_participant_info` WHERE (Super_Population_Description = \"European\")) INTERSECT DISTINCT (SELECT participant_id FROM `verily-public-data.human_genome_variants.1000_genomes_participant_info` WHERE (Population_Description = \"British in England and Scotland\"))) t1'\n",
       "$data_explorer_url\n",
       ":   'https://app.terra.bio/#library/datasets/1000 Genomes/data-explorer?filter=verily-public-data.human_genome_variants.1000_genomes_participant_info.Super_Population_Description%253DEuropean%257Cverily-public-data.human_genome_variants.1000_genomes_participant_info.Population_Description%253DBritish+in+England+and+Scotland&amp;extraFacets='\n",
       "$dataset_name\n",
       ":   '1000 Genomes'\n",
       "\n",
       "\n",
       "\n",
       "$entityType\n",
       ":   'cohort'\n",
       "$name\n",
       ":   '1000G-British'\n",
       "\n",
       "\n",
       "\n",
       "\n",
       "\n"
      ],
      "text/plain": [
       "[[1]]\n",
       "[[1]]$attributes\n",
       "[[1]]$attributes$query\n",
       "[1] \"SELECT DISTINCT t1.participant_id FROM ((SELECT participant_id FROM `verily-public-data.human_genome_variants.1000_genomes_participant_info` WHERE (Super_Population_Description = \\\"European\\\")) INTERSECT DISTINCT (SELECT participant_id FROM `verily-public-data.human_genome_variants.1000_genomes_participant_info` WHERE (Population_Description = \\\"British in England and Scotland\\\"))) t1\"\n",
       "\n",
       "[[1]]$attributes$data_explorer_url\n",
       "[1] \"https://app.terra.bio/#library/datasets/1000 Genomes/data-explorer?filter=verily-public-data.human_genome_variants.1000_genomes_participant_info.Super_Population_Description%253DEuropean%257Cverily-public-data.human_genome_variants.1000_genomes_participant_info.Population_Description%253DBritish+in+England+and+Scotland&extraFacets=\"\n",
       "\n",
       "[[1]]$attributes$dataset_name\n",
       "[1] \"1000 Genomes\"\n",
       "\n",
       "\n",
       "[[1]]$entityType\n",
       "[1] \"cohort\"\n",
       "\n",
       "[[1]]$name\n",
       "[1] \"1000G-British\"\n",
       "\n"
      ]
     },
     "metadata": {},
     "output_type": "display_data"
    }
   ],
   "source": [
    "# Sanity check - This cell just prints out the cohort_entity variable - information the notebook will use\n",
    "# The values should look familiar!\n",
    "cohort_entity"
   ]
  },
  {
   "cell_type": "markdown",
   "metadata": {},
   "source": [
    "### <font color=\"#FF6600\">(expand for tip) </font> <font color=\"#445555\"> How to select from multiple workspace cohorts <a class=\"tocSkip\">"
   ]
  },
  {
   "cell_type": "markdown",
   "metadata": {},
   "source": [
    "<font color=\"#445555\">The command you just ran grabs the first cohort in your workspace data table. If there were multiple queries saved into your workspace table, the one you choose can be changed by updating the number in the double brackets in the code cell above.   \n",
    "\n",
    "For example, using [[2]] would point to the cohort in the second row of the table.  "
   ]
  },
  {
   "cell_type": "markdown",
   "metadata": {},
   "source": [
    "# Call BigQuery"
   ]
  },
  {
   "cell_type": "code",
   "execution_count": 14,
   "metadata": {
    "code_folding": []
   },
   "outputs": [
    {
     "name": "stdout",
     "output_type": "stream",
     "text": [
      "<bq_table> broad-cpa-pipeline._a842069f02d1a3fa5cb5920da81a31ddb8587d9b.anon08101cd6ed030da1ffd5c14c29edaafb913b475d\n"
     ]
    }
   ],
   "source": [
    "# Execute the query and return all results into an in-memory table, \"t\", in R\n",
    "t <- bigrquery::bq_project_query(\n",
    "    BILLING_PROJECT_ID,\n",
    "    cohort_query\n",
    ")\n",
    "print(t)\n",
    "tt <- bigrquery::bq_table_download(t)"
   ]
  },
  {
   "cell_type": "code",
   "execution_count": 15,
   "metadata": {
    "code_folding": []
   },
   "outputs": [
    {
     "name": "stdout",
     "output_type": "stream",
     "text": [
      "\u001b[90m# A tibble: 107 × 1\u001b[39m\n",
      "   participant_id\n",
      "   \u001b[3m\u001b[90m<chr>\u001b[39m\u001b[23m         \n",
      "\u001b[90m 1\u001b[39m HG04302       \n",
      "\u001b[90m 2\u001b[39m HG00098       \n",
      "\u001b[90m 3\u001b[39m HG00152       \n",
      "\u001b[90m 4\u001b[39m HG00156       \n",
      "\u001b[90m 5\u001b[39m HG00145       \n",
      "\u001b[90m 6\u001b[39m HG00157       \n",
      "\u001b[90m 7\u001b[39m HG00115       \n",
      "\u001b[90m 8\u001b[39m HG01789       \n",
      "\u001b[90m 9\u001b[39m HG01791       \n",
      "\u001b[90m10\u001b[39m HG00105       \n",
      "\u001b[90m# … with 97 more rows\u001b[39m\n"
     ]
    }
   ],
   "source": [
    "# Examine the output. This is a table of the participant IDs of your cohort. \n",
    "print(tt)"
   ]
  },
  {
   "cell_type": "markdown",
   "metadata": {},
   "source": [
    "# Add data by \"joining\" with another table\n",
    "The query you just ran returns **just the participant IDs** of your cohort in a table. To do an analysis, you will want additional information from the BigQuery dataset. This section is an example of how to access the additional data you need. "
   ]
  },
  {
   "cell_type": "code",
   "execution_count": null,
   "metadata": {
    "code_folding": []
   },
   "outputs": [],
   "source": [
    "# Query the public-access data to grab pairs of participants IDs and genders and put in a table (named \"table\") \n",
    "query <- '\n",
    "SELECT\n",
    "    DISTINCT participant_id,\n",
    "    Gender\n",
    "FROM\n",
    "    `verily-public-data.human_genome_variants.1000_genomes_participant_info`\n",
    "'\n",
    "table_data <- bigrquery::bq_project_query(\n",
    "    BILLING_PROJECT_ID,\n",
    "    query\n",
    ")\n",
    "table <- bigrquery::bq_table_download(table_data)"
   ]
  },
  {
   "cell_type": "code",
   "execution_count": null,
   "metadata": {
    "code_folding": []
   },
   "outputs": [],
   "source": [
    "# Print the dimensions of `table`, which includes all participants, not just those in your cohort \n",
    "dim(table)"
   ]
  },
  {
   "cell_type": "code",
   "execution_count": null,
   "metadata": {
    "code_folding": [
     0
    ]
   },
   "outputs": [],
   "source": [
    "# Create a **new table**, `merged_table`, of the participant ID and gender pairs for the participants in the cohort\n",
    "merged_table <- merge(x = tt, y = table, by=\"participant_id\", all.x = TRUE)"
   ]
  },
  {
   "cell_type": "code",
   "execution_count": null,
   "metadata": {},
   "outputs": [],
   "source": [
    "# Sanity check - print out the dimensions of the merged table \n",
    "# It should have two columns (for ID and gender) and the number of rows = size of your cohort\n",
    "dim(merged_table)"
   ]
  },
  {
   "cell_type": "markdown",
   "metadata": {},
   "source": [
    "# Plot data"
   ]
  },
  {
   "cell_type": "code",
   "execution_count": null,
   "metadata": {},
   "outputs": [],
   "source": [
    "# This plot is to confirm you hve the data you expect in your notebook \n",
    "grouped <- table(merged_table$Gender)\n",
    "print(grouped)\n",
    "\n",
    "g <- ggplot(merged_table, aes(Gender))\n",
    "g + geom_bar()"
   ]
  },
  {
   "cell_type": "markdown",
   "metadata": {},
   "source": [
    "## <font color=\"#445555\">How to make your own analysis</font><a class=\"tocSkip\">"
   ]
  },
  {
   "cell_type": "markdown",
   "metadata": {},
   "source": [
    "<font color=\"#445555\">This notebook is a demonstration - not really an analysis at all. If you were doing an actual analysis, this is where you would include your R or Python analysis code.</font>"
   ]
  },
  {
   "cell_type": "markdown",
   "metadata": {},
   "source": [
    "# Provenance"
   ]
  },
  {
   "cell_type": "markdown",
   "metadata": {},
   "source": [
    "Provenance is a record of exactly the environment you used when running the notebook. It's useful for collaborating, and helpful when you return to a notebook months after your initial analysis. It's also Best Practices for reproducible research."
   ]
  },
  {
   "cell_type": "code",
   "execution_count": null,
   "metadata": {},
   "outputs": [],
   "source": [
    "# Outputs all session information\n",
    "devtools::session_info()"
   ]
  },
  {
   "cell_type": "markdown",
   "metadata": {},
   "source": [
    "Copyright 2019 The Broad Institute, Inc., Verily Life Sciences, LLC All rights reserved.\n",
    "\n",
    "This software may be modified and distributed under the terms of the BSD license. See the LICENSE file for details."
   ]
  }
 ],
 "metadata": {
  "kernelspec": {
   "display_name": "R",
   "language": "R",
   "name": "ir"
  },
  "language_info": {
   "codemirror_mode": "r",
   "file_extension": ".r",
   "mimetype": "text/x-r-source",
   "name": "R",
   "pygments_lexer": "r",
   "version": "4.1.1"
  },
  "toc": {
   "base_numbering": 1,
   "nav_menu": {},
   "number_sections": true,
   "sideBar": true,
   "skip_h1_title": false,
   "title_cell": "Table of Contents",
   "title_sidebar": "Contents",
   "toc_cell": false,
   "toc_position": {
    "height": "838.976px",
    "left": "21px",
    "top": "470.965px",
    "width": "267.917px"
   },
   "toc_section_display": true,
   "toc_window_display": true
  }
 },
 "nbformat": 4,
 "nbformat_minor": 2
}
