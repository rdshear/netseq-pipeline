{
 "cells": [
  {
   "cell_type": "code",
   "execution_count": 1,
   "metadata": {},
   "outputs": [
    {
     "name": "stderr",
     "output_type": "stream",
     "text": [
      "'getOption(\"repos\")' replaces Bioconductor standard repositories, see\n",
      "'?repositories' for details\n",
      "\n",
      "replacement repositories:\n",
      "    CRAN: https://cloud.r-project.org\n",
      "\n",
      "\n",
      "Bioconductor version 3.13 (BiocManager 1.30.16), R 4.1.1 (2021-08-10)\n",
      "\n",
      "Warning message:\n",
      "“package(s) not installed when version(s) same as current; use `force = TRUE` to\n",
      "  re-install: 'AnVIL'”\n",
      "Old packages: 'bslib', 'cpp11', 'data.table', 'deldir', 'desc', 'diffobj',\n",
      "  'digest', 'fitdistrplus', 'gert', 'goftest', 'hms', 'knitr', 'lattice',\n",
      "  'lifecycle', 'lubridate', 'matrixStats', 'mgcv', 'mime', 'pbapply', 'pillar',\n",
      "  'plotly', 'rcmdcheck', 'RcppArmadillo', 'readr', 'remotes', 'reticulate',\n",
      "  'rmarkdown', 'S4Vectors', 'shiny', 'spatstat.geom', 'stringi', 'testthat',\n",
      "  'tibble', 'tidyr', 'tinytex', 'vroom', 'waldo'\n",
      "\n",
      "Loading required package: dplyr\n",
      "\n",
      "\n",
      "Attaching package: ‘dplyr’\n",
      "\n",
      "\n",
      "The following objects are masked from ‘package:stats’:\n",
      "\n",
      "    filter, lag\n",
      "\n",
      "\n",
      "The following objects are masked from ‘package:base’:\n",
      "\n",
      "    intersect, setdiff, setequal, union\n",
      "\n",
      "\n"
     ]
    }
   ],
   "source": [
    "BiocManager::install(\"AnVIL\")\n",
    "library(AnVIL)"
   ]
  },
  {
   "cell_type": "code",
   "execution_count": 2,
   "metadata": {},
   "outputs": [],
   "source": [
    "library(AnVIL)"
   ]
  },
  {
   "cell_type": "raw",
   "metadata": {},
   "source": []
  },
  {
   "cell_type": "code",
   "execution_count": 5,
   "metadata": {},
   "outputs": [
    {
     "name": "stdout",
     "output_type": "stream",
     "text": [
      "character(0)\n"
     ]
    }
   ],
   "source": [
    "dir(file.path(Sys.getenv(\"GCLOUD_SDK_PATH\"), \"bin\"), \"^(gcloud|gsutil)$\")"
   ]
  },
  {
   "cell_type": "code",
   "execution_count": 6,
   "metadata": {},
   "outputs": [
    {
     "data": {
      "text/html": [
       "'pet-110371272146592282187@broad-cpa-pipeline.iam.gserviceaccount.com'"
      ],
      "text/latex": [
       "'pet-110371272146592282187@broad-cpa-pipeline.iam.gserviceaccount.com'"
      ],
      "text/markdown": [
       "'pet-110371272146592282187@broad-cpa-pipeline.iam.gserviceaccount.com'"
      ],
      "text/plain": [
       "[1] \"pet-110371272146592282187@broad-cpa-pipeline.iam.gserviceaccount.com\""
      ]
     },
     "metadata": {},
     "output_type": "display_data"
    }
   ],
   "source": [
    "gcloud_account()"
   ]
  },
  {
   "cell_type": "code",
   "execution_count": 7,
   "metadata": {},
   "outputs": [
    {
     "data": {
      "text/html": [
       "'broad-cpa-pipeline'"
      ],
      "text/latex": [
       "'broad-cpa-pipeline'"
      ],
      "text/markdown": [
       "'broad-cpa-pipeline'"
      ],
      "text/plain": [
       "[1] \"broad-cpa-pipeline\""
      ]
     },
     "metadata": {},
     "output_type": "display_data"
    }
   ],
   "source": [
    "gcloud_project() # billing project information\n"
   ]
  },
  {
   "cell_type": "code",
   "execution_count": 8,
   "metadata": {},
   "outputs": [
    {
     "data": {
      "text/html": [
       "<table class=\"dataframe\">\n",
       "<caption>A tibble: 2 × 5</caption>\n",
       "<thead>\n",
       "\t<tr><th scope=col>type</th><th scope=col>table</th><th scope=col>key</th><th scope=col>label</th><th scope=col>value</th></tr>\n",
       "\t<tr><th scope=col>&lt;chr&gt;</th><th scope=col>&lt;chr&gt;</th><th scope=col>&lt;chr&gt;</th><th scope=col>&lt;chr&gt;</th><th scope=col>&lt;chr&gt;</th></tr>\n",
       "</thead>\n",
       "<tbody>\n",
       "\t<tr><td>other</td><td>workspace</td><td>genelist</td><td>genelist.gff\\\"</td><td>\\\"gs://fc-353b14e5-19da-46ef-b358-f5b85cffef02/genelist.gff\\\"</td></tr>\n",
       "\t<tr><td>other</td><td>workspace</td><td>refFasta</td><td>sacCer3.fa\\\"  </td><td>\\\"gs://fc-3853b9d9-ddfd-4f0f-a505-29fa9ea4003f/sacCer3.fa\\\"  </td></tr>\n",
       "</tbody>\n",
       "</table>\n"
      ],
      "text/latex": [
       "A tibble: 2 × 5\n",
       "\\begin{tabular}{lllll}\n",
       " type & table & key & label & value\\\\\n",
       " <chr> & <chr> & <chr> & <chr> & <chr>\\\\\n",
       "\\hline\n",
       "\t other & workspace & genelist & genelist.gff\\textbackslash{}\" & \\textbackslash{}\"gs://fc-353b14e5-19da-46ef-b358-f5b85cffef02/genelist.gff\\textbackslash{}\"\\\\\n",
       "\t other & workspace & refFasta & sacCer3.fa\\textbackslash{}\"   & \\textbackslash{}\"gs://fc-3853b9d9-ddfd-4f0f-a505-29fa9ea4003f/sacCer3.fa\\textbackslash{}\"  \\\\\n",
       "\\end{tabular}\n"
      ],
      "text/markdown": [
       "\n",
       "A tibble: 2 × 5\n",
       "\n",
       "| type &lt;chr&gt; | table &lt;chr&gt; | key &lt;chr&gt; | label &lt;chr&gt; | value &lt;chr&gt; |\n",
       "|---|---|---|---|---|\n",
       "| other | workspace | genelist | genelist.gff\\\" | \\\"gs://fc-353b14e5-19da-46ef-b358-f5b85cffef02/genelist.gff\\\" |\n",
       "| other | workspace | refFasta | sacCer3.fa\\\"   | \\\"gs://fc-3853b9d9-ddfd-4f0f-a505-29fa9ea4003f/sacCer3.fa\\\"   |\n",
       "\n"
      ],
      "text/plain": [
       "  type  table     key      label          \n",
       "1 other workspace genelist genelist.gff\\\\\"\n",
       "2 other workspace refFasta sacCer3.fa\\\\\"  \n",
       "  value                                                          \n",
       "1 \\\\\"gs://fc-353b14e5-19da-46ef-b358-f5b85cffef02/genelist.gff\\\\\"\n",
       "2 \\\\\"gs://fc-3853b9d9-ddfd-4f0f-a505-29fa9ea4003f/sacCer3.fa\\\\\"  "
      ]
     },
     "metadata": {},
     "output_type": "display_data"
    }
   ],
   "source": [
    "avdata()"
   ]
  },
  {
   "cell_type": "code",
   "execution_count": 24,
   "metadata": {},
   "outputs": [
    {
     "data": {
      "text/html": [
       "'gs://fc-353b14e5-19da-46ef-b358-f5b85cffef02'"
      ],
      "text/latex": [
       "'gs://fc-353b14e5-19da-46ef-b358-f5b85cffef02'"
      ],
      "text/markdown": [
       "'gs://fc-353b14e5-19da-46ef-b358-f5b85cffef02'"
      ],
      "text/plain": [
       "[1] \"gs://fc-353b14e5-19da-46ef-b358-f5b85cffef02\""
      ]
     },
     "metadata": {},
     "output_type": "display_data"
    },
    {
     "data": {
      "text/html": [
       "<style>\n",
       ".list-inline {list-style: none; margin:0; padding: 0}\n",
       ".list-inline>li {display: inline-block}\n",
       ".list-inline>li:not(:last-child)::after {content: \"\\00b7\"; padding: 0 .5ex}\n",
       "</style>\n",
       "<ol class=list-inline><li>'genelist.gff'</li><li>'sacCer3.fa'</li><li>'xwt-1.fastq.gz'</li><li>'0d32d7c9-9512-4db0-b6c9-6654f840de15/'</li><li>'12101555-5060-41ca-a3cf-665434207dc0/'</li><li>'15cf0b45-ea46-4123-8d08-3f6b9590c473/'</li><li>'1a3f5c55-561b-4dac-bab4-4a237574f3bd/'</li><li>'259584f6-003c-4128-bc47-14f4faf300db/'</li><li>'2e5dcc2a-e66e-4446-8f72-71df82ee3b5e/'</li><li>'3021ced2-9617-4c97-a5eb-9ff8ac63d408/'</li><li>'35144888-031c-49b3-9102-e9085594d153/'</li><li>'3aa0a027-40bd-4ee9-9d23-194d93bd7f9b/'</li><li>'3d05ec9f-1c69-42b8-9b25-e73101c83cef/'</li><li>'50a3dcd6-f18c-4396-bd41-b6dbd86c0424/'</li><li>'5710f9e5-759b-41e9-839f-a8a5af3efb0c/'</li><li>'7c6b753c-4b80-4cef-ace4-5438279af7c9/'</li><li>'836e43c3-d398-4e3c-b47f-5842352386fc/'</li><li>'925461b3-bc1c-48e0-9e15-7d9a1b9d1443/'</li><li>'9798b683-19cf-416c-8e84-392b4eeebc21/'</li><li>'98fbe817-2868-41e5-9475-081707024361/'</li><li>'a50e10b7-d638-476c-8db6-ad4306b780a4/'</li><li>'ae120cb2-5a7f-470a-b8e8-ffe624d838c4/'</li><li>'ae8fa1bc-bc1a-4753-b013-3db4f11d3ad4/'</li><li>'b4371817-3c4a-4e5d-9e3c-564f6244348e/'</li><li>'b7171dd9-f5f0-4dc9-962a-e7a44771dd5e/'</li><li>'ba5bf5d6-90a3-4661-aa4a-135aef334a6f/'</li><li>'cddabaa0-2b81-4b71-b475-c9ee577538bf/'</li><li>'d836aca6-9b07-40a3-bbc8-0037de3f7495/'</li><li>'da5b23a1-73b8-4e2f-ae18-9cadf794e0d2/'</li><li>'dc4cf815-0d92-47a2-b684-04950037ab45/'</li><li>'f03c7688-8a51-48da-b928-020b3d2f8a29/'</li><li>'f3466e2b-c5ba-42dd-b78b-67a9817e6e8d/'</li><li>'f9470c46-4a90-4aa8-89dc-8e35a0065472/'</li><li>'notebooks/'</li></ol>\n"
      ],
      "text/latex": [
       "\\begin{enumerate*}\n",
       "\\item 'genelist.gff'\n",
       "\\item 'sacCer3.fa'\n",
       "\\item 'xwt-1.fastq.gz'\n",
       "\\item '0d32d7c9-9512-4db0-b6c9-6654f840de15/'\n",
       "\\item '12101555-5060-41ca-a3cf-665434207dc0/'\n",
       "\\item '15cf0b45-ea46-4123-8d08-3f6b9590c473/'\n",
       "\\item '1a3f5c55-561b-4dac-bab4-4a237574f3bd/'\n",
       "\\item '259584f6-003c-4128-bc47-14f4faf300db/'\n",
       "\\item '2e5dcc2a-e66e-4446-8f72-71df82ee3b5e/'\n",
       "\\item '3021ced2-9617-4c97-a5eb-9ff8ac63d408/'\n",
       "\\item '35144888-031c-49b3-9102-e9085594d153/'\n",
       "\\item '3aa0a027-40bd-4ee9-9d23-194d93bd7f9b/'\n",
       "\\item '3d05ec9f-1c69-42b8-9b25-e73101c83cef/'\n",
       "\\item '50a3dcd6-f18c-4396-bd41-b6dbd86c0424/'\n",
       "\\item '5710f9e5-759b-41e9-839f-a8a5af3efb0c/'\n",
       "\\item '7c6b753c-4b80-4cef-ace4-5438279af7c9/'\n",
       "\\item '836e43c3-d398-4e3c-b47f-5842352386fc/'\n",
       "\\item '925461b3-bc1c-48e0-9e15-7d9a1b9d1443/'\n",
       "\\item '9798b683-19cf-416c-8e84-392b4eeebc21/'\n",
       "\\item '98fbe817-2868-41e5-9475-081707024361/'\n",
       "\\item 'a50e10b7-d638-476c-8db6-ad4306b780a4/'\n",
       "\\item 'ae120cb2-5a7f-470a-b8e8-ffe624d838c4/'\n",
       "\\item 'ae8fa1bc-bc1a-4753-b013-3db4f11d3ad4/'\n",
       "\\item 'b4371817-3c4a-4e5d-9e3c-564f6244348e/'\n",
       "\\item 'b7171dd9-f5f0-4dc9-962a-e7a44771dd5e/'\n",
       "\\item 'ba5bf5d6-90a3-4661-aa4a-135aef334a6f/'\n",
       "\\item 'cddabaa0-2b81-4b71-b475-c9ee577538bf/'\n",
       "\\item 'd836aca6-9b07-40a3-bbc8-0037de3f7495/'\n",
       "\\item 'da5b23a1-73b8-4e2f-ae18-9cadf794e0d2/'\n",
       "\\item 'dc4cf815-0d92-47a2-b684-04950037ab45/'\n",
       "\\item 'f03c7688-8a51-48da-b928-020b3d2f8a29/'\n",
       "\\item 'f3466e2b-c5ba-42dd-b78b-67a9817e6e8d/'\n",
       "\\item 'f9470c46-4a90-4aa8-89dc-8e35a0065472/'\n",
       "\\item 'notebooks/'\n",
       "\\end{enumerate*}\n"
      ],
      "text/markdown": [
       "1. 'genelist.gff'\n",
       "2. 'sacCer3.fa'\n",
       "3. 'xwt-1.fastq.gz'\n",
       "4. '0d32d7c9-9512-4db0-b6c9-6654f840de15/'\n",
       "5. '12101555-5060-41ca-a3cf-665434207dc0/'\n",
       "6. '15cf0b45-ea46-4123-8d08-3f6b9590c473/'\n",
       "7. '1a3f5c55-561b-4dac-bab4-4a237574f3bd/'\n",
       "8. '259584f6-003c-4128-bc47-14f4faf300db/'\n",
       "9. '2e5dcc2a-e66e-4446-8f72-71df82ee3b5e/'\n",
       "10. '3021ced2-9617-4c97-a5eb-9ff8ac63d408/'\n",
       "11. '35144888-031c-49b3-9102-e9085594d153/'\n",
       "12. '3aa0a027-40bd-4ee9-9d23-194d93bd7f9b/'\n",
       "13. '3d05ec9f-1c69-42b8-9b25-e73101c83cef/'\n",
       "14. '50a3dcd6-f18c-4396-bd41-b6dbd86c0424/'\n",
       "15. '5710f9e5-759b-41e9-839f-a8a5af3efb0c/'\n",
       "16. '7c6b753c-4b80-4cef-ace4-5438279af7c9/'\n",
       "17. '836e43c3-d398-4e3c-b47f-5842352386fc/'\n",
       "18. '925461b3-bc1c-48e0-9e15-7d9a1b9d1443/'\n",
       "19. '9798b683-19cf-416c-8e84-392b4eeebc21/'\n",
       "20. '98fbe817-2868-41e5-9475-081707024361/'\n",
       "21. 'a50e10b7-d638-476c-8db6-ad4306b780a4/'\n",
       "22. 'ae120cb2-5a7f-470a-b8e8-ffe624d838c4/'\n",
       "23. 'ae8fa1bc-bc1a-4753-b013-3db4f11d3ad4/'\n",
       "24. 'b4371817-3c4a-4e5d-9e3c-564f6244348e/'\n",
       "25. 'b7171dd9-f5f0-4dc9-962a-e7a44771dd5e/'\n",
       "26. 'ba5bf5d6-90a3-4661-aa4a-135aef334a6f/'\n",
       "27. 'cddabaa0-2b81-4b71-b475-c9ee577538bf/'\n",
       "28. 'd836aca6-9b07-40a3-bbc8-0037de3f7495/'\n",
       "29. 'da5b23a1-73b8-4e2f-ae18-9cadf794e0d2/'\n",
       "30. 'dc4cf815-0d92-47a2-b684-04950037ab45/'\n",
       "31. 'f03c7688-8a51-48da-b928-020b3d2f8a29/'\n",
       "32. 'f3466e2b-c5ba-42dd-b78b-67a9817e6e8d/'\n",
       "33. 'f9470c46-4a90-4aa8-89dc-8e35a0065472/'\n",
       "34. 'notebooks/'\n",
       "\n",
       "\n"
      ],
      "text/plain": [
       " [1] \"genelist.gff\"                         \n",
       " [2] \"sacCer3.fa\"                           \n",
       " [3] \"xwt-1.fastq.gz\"                       \n",
       " [4] \"0d32d7c9-9512-4db0-b6c9-6654f840de15/\"\n",
       " [5] \"12101555-5060-41ca-a3cf-665434207dc0/\"\n",
       " [6] \"15cf0b45-ea46-4123-8d08-3f6b9590c473/\"\n",
       " [7] \"1a3f5c55-561b-4dac-bab4-4a237574f3bd/\"\n",
       " [8] \"259584f6-003c-4128-bc47-14f4faf300db/\"\n",
       " [9] \"2e5dcc2a-e66e-4446-8f72-71df82ee3b5e/\"\n",
       "[10] \"3021ced2-9617-4c97-a5eb-9ff8ac63d408/\"\n",
       "[11] \"35144888-031c-49b3-9102-e9085594d153/\"\n",
       "[12] \"3aa0a027-40bd-4ee9-9d23-194d93bd7f9b/\"\n",
       "[13] \"3d05ec9f-1c69-42b8-9b25-e73101c83cef/\"\n",
       "[14] \"50a3dcd6-f18c-4396-bd41-b6dbd86c0424/\"\n",
       "[15] \"5710f9e5-759b-41e9-839f-a8a5af3efb0c/\"\n",
       "[16] \"7c6b753c-4b80-4cef-ace4-5438279af7c9/\"\n",
       "[17] \"836e43c3-d398-4e3c-b47f-5842352386fc/\"\n",
       "[18] \"925461b3-bc1c-48e0-9e15-7d9a1b9d1443/\"\n",
       "[19] \"9798b683-19cf-416c-8e84-392b4eeebc21/\"\n",
       "[20] \"98fbe817-2868-41e5-9475-081707024361/\"\n",
       "[21] \"a50e10b7-d638-476c-8db6-ad4306b780a4/\"\n",
       "[22] \"ae120cb2-5a7f-470a-b8e8-ffe624d838c4/\"\n",
       "[23] \"ae8fa1bc-bc1a-4753-b013-3db4f11d3ad4/\"\n",
       "[24] \"b4371817-3c4a-4e5d-9e3c-564f6244348e/\"\n",
       "[25] \"b7171dd9-f5f0-4dc9-962a-e7a44771dd5e/\"\n",
       "[26] \"ba5bf5d6-90a3-4661-aa4a-135aef334a6f/\"\n",
       "[27] \"cddabaa0-2b81-4b71-b475-c9ee577538bf/\"\n",
       "[28] \"d836aca6-9b07-40a3-bbc8-0037de3f7495/\"\n",
       "[29] \"da5b23a1-73b8-4e2f-ae18-9cadf794e0d2/\"\n",
       "[30] \"dc4cf815-0d92-47a2-b684-04950037ab45/\"\n",
       "[31] \"f03c7688-8a51-48da-b928-020b3d2f8a29/\"\n",
       "[32] \"f3466e2b-c5ba-42dd-b78b-67a9817e6e8d/\"\n",
       "[33] \"f9470c46-4a90-4aa8-89dc-8e35a0065472/\"\n",
       "[34] \"notebooks/\"                           "
      ]
     },
     "metadata": {},
     "output_type": "display_data"
    }
   ],
   "source": [
    "bucket <- avbucket()\n",
    "bucket\n",
    "avfiles_ls()"
   ]
  },
  {
   "cell_type": "code",
   "execution_count": 25,
   "metadata": {},
   "outputs": [
    {
     "data": {
      "text/plain": [
       "service: terra\n",
       "tags(); use terra$<tab completion>:\n",
       "\u001b[90m# A tibble: 144 × 3\u001b[39m\n",
       "   tag      operation                     summary                               \n",
       "   \u001b[3m\u001b[90m<chr>\u001b[39m\u001b[23m    \u001b[3m\u001b[90m<chr>\u001b[39m\u001b[23m                         \u001b[3m\u001b[90m<chr>\u001b[39m\u001b[23m                                 \n",
       "\u001b[90m 1\u001b[39m Billing  addUserToBillingProject       add user to billing project the calle…\n",
       "\u001b[90m 2\u001b[39m Billing  createBillingProjectFull      create billing project in FireCloud a…\n",
       "\u001b[90m 3\u001b[39m Billing  deleteBillingProject          delete billing project                \n",
       "\u001b[90m 4\u001b[39m Billing  listBillingProjectMembers     list members of billing project the c…\n",
       "\u001b[90m 5\u001b[39m Billing  removeUserFromBillingProject  remove user from billing project the …\n",
       "\u001b[90m 6\u001b[39m Entities browserDownloadEntitiesTSV    TSV file containing workspace entitie…\n",
       "\u001b[90m 7\u001b[39m Entities browserDownloadEntitiesTSVGet TSV file containing workspace entitie…\n",
       "\u001b[90m 8\u001b[39m Entities copyEntities                  Copy entities from one workspace to a…\n",
       "\u001b[90m 9\u001b[39m Entities deleteEntities                Bulk delete entities from a workspace \n",
       "\u001b[90m10\u001b[39m Entities downloadEntitiesTSV           TSV file containing workspace entitie…\n",
       "\u001b[90m# … with 134 more rows\u001b[39m\n",
       "tag values:\n",
       "  Billing, Entities, Groups, Library, Method Configurations, Method\n",
       "  Repository, NIH, Notifications, OAuth, Profile, ShareLog, Static\n",
       "  Notebooks, Status, Storage, Submissions, Version, Womtool, Workspaces\n",
       "schemas():\n",
       "  AddListMember, AddUpdateAttribute, AttributeEntityReference,\n",
       "  AttributeUpdateOperation, BagitRequest\n",
       "  # ... with 138 more elements"
      ]
     },
     "metadata": {},
     "output_type": "display_data"
    }
   ],
   "source": [
    "terra <- Terra()\n",
    "terra\n"
   ]
  },
  {
   "cell_type": "code",
   "execution_count": 13,
   "metadata": {},
   "outputs": [
    {
     "data": {
      "text/html": [
       "<table class=\"dataframe\">\n",
       "<caption>A tibble: 7 × 9</caption>\n",
       "<thead>\n",
       "\t<tr><th scope=col>sample_id</th><th scope=col>dedup_bam</th><th scope=col>output_bam</th><th scope=col>bedgraph_pos</th><th scope=col>bedgraph_neg</th><th scope=col>inputFastQ</th><th scope=col>changepoints</th><th scope=col>logs.itemsType</th><th scope=col>logs.items</th></tr>\n",
       "\t<tr><th scope=col>&lt;chr&gt;</th><th scope=col>&lt;chr&gt;</th><th scope=col>&lt;chr&gt;</th><th scope=col>&lt;chr&gt;</th><th scope=col>&lt;chr&gt;</th><th scope=col>&lt;chr&gt;</th><th scope=col>&lt;chr&gt;</th><th scope=col>&lt;chr&gt;</th><th scope=col>&lt;list&gt;</th></tr>\n",
       "</thead>\n",
       "<tbody>\n",
       "\t<tr><td>test-1</td><td>gs://fc-353b14e5-19da-46ef-b358-f5b85cffef02/45f31e25-a41c-472d-91f6-ee516e7441eb/NETseq/5e70f931-53f4-4e38-97a7-265f29b1c50f/call-BamToBedgraph/test-1.dedup.bam        </td><td>gs://fc-353b14e5-19da-46ef-b358-f5b85cffef02/45f31e25-a41c-472d-91f6-ee516e7441eb/NETseq/5e70f931-53f4-4e38-97a7-265f29b1c50f/call-StarAlign/test-1.aligned.bam         </td><td>gs://fc-353b14e5-19da-46ef-b358-f5b85cffef02/45f31e25-a41c-472d-91f6-ee516e7441eb/NETseq/5e70f931-53f4-4e38-97a7-265f29b1c50f/call-BamToBedgraph/test-1.pos.bedgraph.gz        </td><td>gs://fc-353b14e5-19da-46ef-b358-f5b85cffef02/45f31e25-a41c-472d-91f6-ee516e7441eb/NETseq/5e70f931-53f4-4e38-97a7-265f29b1c50f/call-BamToBedgraph/test-1.neg.bedgraph.gz        </td><td>gs://fc-353b14e5-19da-46ef-b358-f5b85cffef02/test-1.fastq.gz</td><td>gs://fc-353b14e5-19da-46ef-b358-f5b85cffef02/fbb25897-45fd-4e50-9847-5388c7614350/netsq_to_changepoint/2f453de3-147c-4137-87fc-b26aaa69035c/call-DiscoverBreakpoints/test-1.cp.CEZINB.gff3</td><td>AttributeValue</td><td>gs://fc-353b14e5-19da-46ef-b358-f5b85cffef02/45f31e25-a41c-472d-91f6-ee516e7441eb/NETseq/5e70f931-53f4-4e38-97a7-265f29b1c50f/call-StarAlign/test-1.Log.out      , gs://fc-353b14e5-19da-46ef-b358-f5b85cffef02/45f31e25-a41c-472d-91f6-ee516e7441eb/NETseq/5e70f931-53f4-4e38-97a7-265f29b1c50f/call-StarAlign/test-1.Log.std.out  , gs://fc-353b14e5-19da-46ef-b358-f5b85cffef02/45f31e25-a41c-472d-91f6-ee516e7441eb/NETseq/5e70f931-53f4-4e38-97a7-265f29b1c50f/call-StarAlign/test-1.Log.final.out, gs://fc-353b14e5-19da-46ef-b358-f5b85cffef02/45f31e25-a41c-472d-91f6-ee516e7441eb/NETseq/5e70f931-53f4-4e38-97a7-265f29b1c50f/call-BamToBedgraph/test-1.dedup.log</td></tr>\n",
       "\t<tr><td>wt-1  </td><td>gs://fc-353b14e5-19da-46ef-b358-f5b85cffef02/da5b23a1-73b8-4e2f-ae18-9cadf794e0d2/NETseq/af400abe-c96f-409d-9fa6-948f879c128b/call-BamToBedgraph/cacheCopy/wt-1.dedup.bam</td><td>gs://fc-353b14e5-19da-46ef-b358-f5b85cffef02/da5b23a1-73b8-4e2f-ae18-9cadf794e0d2/NETseq/af400abe-c96f-409d-9fa6-948f879c128b/call-StarAlign/cacheCopy/wt-1.aligned.bam </td><td>gs://fc-353b14e5-19da-46ef-b358-f5b85cffef02/da5b23a1-73b8-4e2f-ae18-9cadf794e0d2/NETseq/af400abe-c96f-409d-9fa6-948f879c128b/call-BamToBedgraph/cacheCopy/wt-1.pos.bedgraph.gz</td><td>gs://fc-353b14e5-19da-46ef-b358-f5b85cffef02/da5b23a1-73b8-4e2f-ae18-9cadf794e0d2/NETseq/af400abe-c96f-409d-9fa6-948f879c128b/call-BamToBedgraph/cacheCopy/wt-1.neg.bedgraph.gz</td><td>gs://sra-pub-src-15/SRR12840066/wt-1.fastq.gz.1             </td><td>gs://fc-353b14e5-19da-46ef-b358-f5b85cffef02/50b43f2d-3c7d-4662-b652-9c44da505742/netsq_to_changepoint/84a1aef3-ddf2-4023-ae62-2caa30b6c233/call-DiscoverBreakpoints/wt-1.cp.CEZINB.gff3  </td><td>AttributeValue</td><td>gs://fc-353b14e5-19da-46ef-b358-f5b85cffef02/da5b23a1-73b8-4e2f-ae18-9cadf794e0d2/NETseq/af400abe-c96f-409d-9fa6-948f879c128b/call-StarAlign/cacheCopy/wt-1.Log.out      , gs://fc-353b14e5-19da-46ef-b358-f5b85cffef02/da5b23a1-73b8-4e2f-ae18-9cadf794e0d2/NETseq/af400abe-c96f-409d-9fa6-948f879c128b/call-StarAlign/cacheCopy/wt-1.Log.std.out  , gs://fc-353b14e5-19da-46ef-b358-f5b85cffef02/da5b23a1-73b8-4e2f-ae18-9cadf794e0d2/NETseq/af400abe-c96f-409d-9fa6-948f879c128b/call-StarAlign/cacheCopy/wt-1.Log.final.out, gs://fc-353b14e5-19da-46ef-b358-f5b85cffef02/da5b23a1-73b8-4e2f-ae18-9cadf794e0d2/NETseq/af400abe-c96f-409d-9fa6-948f879c128b/call-BamToBedgraph/cacheCopy/wt-1.dedup.log</td></tr>\n",
       "\t<tr><td>wt-2  </td><td>gs://fc-353b14e5-19da-46ef-b358-f5b85cffef02/50a3dcd6-f18c-4396-bd41-b6dbd86c0424/NETseq/0a094f44-e8c4-4ffd-9c73-99a8566ca3f9/call-BamToBedgraph/wt-2.dedup.bam          </td><td>gs://fc-353b14e5-19da-46ef-b358-f5b85cffef02/50a3dcd6-f18c-4396-bd41-b6dbd86c0424/NETseq/0a094f44-e8c4-4ffd-9c73-99a8566ca3f9/call-StarAlign/wt-2.aligned.bam           </td><td>gs://fc-353b14e5-19da-46ef-b358-f5b85cffef02/50a3dcd6-f18c-4396-bd41-b6dbd86c0424/NETseq/0a094f44-e8c4-4ffd-9c73-99a8566ca3f9/call-BamToBedgraph/wt-2.pos.bedgraph.gz          </td><td>gs://fc-353b14e5-19da-46ef-b358-f5b85cffef02/50a3dcd6-f18c-4396-bd41-b6dbd86c0424/NETseq/0a094f44-e8c4-4ffd-9c73-99a8566ca3f9/call-BamToBedgraph/wt-2.neg.bedgraph.gz          </td><td>gs://sra-pub-src-18/SRR12840067/wt-2.fastq.gz.1             </td><td>gs://fc-353b14e5-19da-46ef-b358-f5b85cffef02/50b43f2d-3c7d-4662-b652-9c44da505742/netsq_to_changepoint/4e8b1b10-bf8d-40f7-90ee-d55c9f77a97c/call-DiscoverBreakpoints/wt-2.cp.CEZINB.gff3  </td><td>AttributeValue</td><td>gs://fc-353b14e5-19da-46ef-b358-f5b85cffef02/50a3dcd6-f18c-4396-bd41-b6dbd86c0424/NETseq/0a094f44-e8c4-4ffd-9c73-99a8566ca3f9/call-StarAlign/wt-2.Log.out      , gs://fc-353b14e5-19da-46ef-b358-f5b85cffef02/50a3dcd6-f18c-4396-bd41-b6dbd86c0424/NETseq/0a094f44-e8c4-4ffd-9c73-99a8566ca3f9/call-StarAlign/wt-2.Log.std.out  , gs://fc-353b14e5-19da-46ef-b358-f5b85cffef02/50a3dcd6-f18c-4396-bd41-b6dbd86c0424/NETseq/0a094f44-e8c4-4ffd-9c73-99a8566ca3f9/call-StarAlign/wt-2.Log.final.out, gs://fc-353b14e5-19da-46ef-b358-f5b85cffef02/50a3dcd6-f18c-4396-bd41-b6dbd86c0424/NETseq/0a094f44-e8c4-4ffd-9c73-99a8566ca3f9/call-BamToBedgraph/wt-2.dedup.log</td></tr>\n",
       "\t<tr><td>wt-3  </td><td>gs://fc-353b14e5-19da-46ef-b358-f5b85cffef02/50a3dcd6-f18c-4396-bd41-b6dbd86c0424/NETseq/fb873ea4-9fe8-492d-b5a9-4b3d898052e5/call-BamToBedgraph/wt-3.dedup.bam          </td><td>gs://fc-353b14e5-19da-46ef-b358-f5b85cffef02/50a3dcd6-f18c-4396-bd41-b6dbd86c0424/NETseq/fb873ea4-9fe8-492d-b5a9-4b3d898052e5/call-StarAlign/wt-3.aligned.bam           </td><td>gs://fc-353b14e5-19da-46ef-b358-f5b85cffef02/50a3dcd6-f18c-4396-bd41-b6dbd86c0424/NETseq/fb873ea4-9fe8-492d-b5a9-4b3d898052e5/call-BamToBedgraph/wt-3.pos.bedgraph.gz          </td><td>gs://fc-353b14e5-19da-46ef-b358-f5b85cffef02/50a3dcd6-f18c-4396-bd41-b6dbd86c0424/NETseq/fb873ea4-9fe8-492d-b5a9-4b3d898052e5/call-BamToBedgraph/wt-3.neg.bedgraph.gz          </td><td>gs://sra-pub-src-18/SRR12840068/wt-3.fastq.gz.1             </td><td>gs://fc-353b14e5-19da-46ef-b358-f5b85cffef02/50b43f2d-3c7d-4662-b652-9c44da505742/netsq_to_changepoint/41a21b3a-7013-43ae-82d2-48a5b4cfce1b/call-DiscoverBreakpoints/wt-3.cp.CEZINB.gff3  </td><td>AttributeValue</td><td>gs://fc-353b14e5-19da-46ef-b358-f5b85cffef02/50a3dcd6-f18c-4396-bd41-b6dbd86c0424/NETseq/fb873ea4-9fe8-492d-b5a9-4b3d898052e5/call-StarAlign/wt-3.Log.out      , gs://fc-353b14e5-19da-46ef-b358-f5b85cffef02/50a3dcd6-f18c-4396-bd41-b6dbd86c0424/NETseq/fb873ea4-9fe8-492d-b5a9-4b3d898052e5/call-StarAlign/wt-3.Log.std.out  , gs://fc-353b14e5-19da-46ef-b358-f5b85cffef02/50a3dcd6-f18c-4396-bd41-b6dbd86c0424/NETseq/fb873ea4-9fe8-492d-b5a9-4b3d898052e5/call-StarAlign/wt-3.Log.final.out, gs://fc-353b14e5-19da-46ef-b358-f5b85cffef02/50a3dcd6-f18c-4396-bd41-b6dbd86c0424/NETseq/fb873ea4-9fe8-492d-b5a9-4b3d898052e5/call-BamToBedgraph/wt-3.dedup.log</td></tr>\n",
       "\t<tr><td>wt-4  </td><td>gs://fc-353b14e5-19da-46ef-b358-f5b85cffef02/50a3dcd6-f18c-4396-bd41-b6dbd86c0424/NETseq/dbd1769c-5bbc-4e1e-8a44-ec9b89fc7c2b/call-BamToBedgraph/wt-4.dedup.bam          </td><td>gs://fc-353b14e5-19da-46ef-b358-f5b85cffef02/50a3dcd6-f18c-4396-bd41-b6dbd86c0424/NETseq/dbd1769c-5bbc-4e1e-8a44-ec9b89fc7c2b/call-StarAlign/wt-4.aligned.bam           </td><td>gs://fc-353b14e5-19da-46ef-b358-f5b85cffef02/50a3dcd6-f18c-4396-bd41-b6dbd86c0424/NETseq/dbd1769c-5bbc-4e1e-8a44-ec9b89fc7c2b/call-BamToBedgraph/wt-4.pos.bedgraph.gz          </td><td>gs://fc-353b14e5-19da-46ef-b358-f5b85cffef02/50a3dcd6-f18c-4396-bd41-b6dbd86c0424/NETseq/dbd1769c-5bbc-4e1e-8a44-ec9b89fc7c2b/call-BamToBedgraph/wt-4.neg.bedgraph.gz          </td><td>gs://sra-pub-src-16/SRR12840069/wt-4.fastq.gz.1             </td><td>gs://fc-353b14e5-19da-46ef-b358-f5b85cffef02/50b43f2d-3c7d-4662-b652-9c44da505742/netsq_to_changepoint/8c7cc8da-bd4d-4e76-acad-9b21900aca15/call-DiscoverBreakpoints/wt-4.cp.CEZINB.gff3  </td><td>AttributeValue</td><td>gs://fc-353b14e5-19da-46ef-b358-f5b85cffef02/50a3dcd6-f18c-4396-bd41-b6dbd86c0424/NETseq/dbd1769c-5bbc-4e1e-8a44-ec9b89fc7c2b/call-StarAlign/wt-4.Log.out      , gs://fc-353b14e5-19da-46ef-b358-f5b85cffef02/50a3dcd6-f18c-4396-bd41-b6dbd86c0424/NETseq/dbd1769c-5bbc-4e1e-8a44-ec9b89fc7c2b/call-StarAlign/wt-4.Log.std.out  , gs://fc-353b14e5-19da-46ef-b358-f5b85cffef02/50a3dcd6-f18c-4396-bd41-b6dbd86c0424/NETseq/dbd1769c-5bbc-4e1e-8a44-ec9b89fc7c2b/call-StarAlign/wt-4.Log.final.out, gs://fc-353b14e5-19da-46ef-b358-f5b85cffef02/50a3dcd6-f18c-4396-bd41-b6dbd86c0424/NETseq/dbd1769c-5bbc-4e1e-8a44-ec9b89fc7c2b/call-BamToBedgraph/wt-4.dedup.log</td></tr>\n",
       "\t<tr><td>xwt-1 </td><td>gs://fc-353b14e5-19da-46ef-b358-f5b85cffef02/50a3dcd6-f18c-4396-bd41-b6dbd86c0424/NETseq/cf0ff745-3804-42ae-9f8a-adaa7e6f63b9/call-BamToBedgraph/xwt-1.dedup.bam         </td><td>gs://fc-353b14e5-19da-46ef-b358-f5b85cffef02/50a3dcd6-f18c-4396-bd41-b6dbd86c0424/NETseq/cf0ff745-3804-42ae-9f8a-adaa7e6f63b9/call-StarAlign/xwt-1.aligned.bam          </td><td>gs://fc-353b14e5-19da-46ef-b358-f5b85cffef02/50a3dcd6-f18c-4396-bd41-b6dbd86c0424/NETseq/cf0ff745-3804-42ae-9f8a-adaa7e6f63b9/call-BamToBedgraph/xwt-1.pos.bedgraph.gz         </td><td>gs://fc-353b14e5-19da-46ef-b358-f5b85cffef02/50a3dcd6-f18c-4396-bd41-b6dbd86c0424/NETseq/cf0ff745-3804-42ae-9f8a-adaa7e6f63b9/call-BamToBedgraph/xwt-1.neg.bedgraph.gz         </td><td>gs://fc-353b14e5-19da-46ef-b358-f5b85cffef02/xwt-1.fastq.gz </td><td>NA                                                                                                                                                                                        </td><td>AttributeValue</td><td>gs://fc-353b14e5-19da-46ef-b358-f5b85cffef02/50a3dcd6-f18c-4396-bd41-b6dbd86c0424/NETseq/cf0ff745-3804-42ae-9f8a-adaa7e6f63b9/call-StarAlign/xwt-1.Log.out      , gs://fc-353b14e5-19da-46ef-b358-f5b85cffef02/50a3dcd6-f18c-4396-bd41-b6dbd86c0424/NETseq/cf0ff745-3804-42ae-9f8a-adaa7e6f63b9/call-StarAlign/xwt-1.Log.std.out  , gs://fc-353b14e5-19da-46ef-b358-f5b85cffef02/50a3dcd6-f18c-4396-bd41-b6dbd86c0424/NETseq/cf0ff745-3804-42ae-9f8a-adaa7e6f63b9/call-StarAlign/xwt-1.Log.final.out, gs://fc-353b14e5-19da-46ef-b358-f5b85cffef02/50a3dcd6-f18c-4396-bd41-b6dbd86c0424/NETseq/cf0ff745-3804-42ae-9f8a-adaa7e6f63b9/call-BamToBedgraph/xwt-1.dedup.log</td></tr>\n",
       "\t<tr><td>zwt-1 </td><td>gs://fc-353b14e5-19da-46ef-b358-f5b85cffef02/3651dc42-064c-4b38-b429-8bd9283eb785/NETseq/26e6d53c-a686-4220-99c7-5c051cf77255/call-BamToBedgraph/zwt-1.dedup.bam         </td><td>gs://fc-353b14e5-19da-46ef-b358-f5b85cffef02/3651dc42-064c-4b38-b429-8bd9283eb785/NETseq/26e6d53c-a686-4220-99c7-5c051cf77255/call-StarAlign/cacheCopy/zwt-1.aligned.bam</td><td>gs://fc-353b14e5-19da-46ef-b358-f5b85cffef02/3651dc42-064c-4b38-b429-8bd9283eb785/NETseq/26e6d53c-a686-4220-99c7-5c051cf77255/call-BamToBedgraph/zwt-1.pos.bedgraph.gz         </td><td>gs://fc-353b14e5-19da-46ef-b358-f5b85cffef02/3651dc42-064c-4b38-b429-8bd9283eb785/NETseq/26e6d53c-a686-4220-99c7-5c051cf77255/call-BamToBedgraph/zwt-1.neg.bedgraph.gz         </td><td>gs://sra-pub-src-15/SRR12840066/wt-1.fastq.gz.1             </td><td>NA                                                                                                                                                                                        </td><td>AttributeValue</td><td>gs://fc-353b14e5-19da-46ef-b358-f5b85cffef02/3651dc42-064c-4b38-b429-8bd9283eb785/NETseq/26e6d53c-a686-4220-99c7-5c051cf77255/call-StarAlign/cacheCopy/zwt-1.Log.out      , gs://fc-353b14e5-19da-46ef-b358-f5b85cffef02/3651dc42-064c-4b38-b429-8bd9283eb785/NETseq/26e6d53c-a686-4220-99c7-5c051cf77255/call-StarAlign/cacheCopy/zwt-1.Log.std.out  , gs://fc-353b14e5-19da-46ef-b358-f5b85cffef02/3651dc42-064c-4b38-b429-8bd9283eb785/NETseq/26e6d53c-a686-4220-99c7-5c051cf77255/call-StarAlign/cacheCopy/zwt-1.Log.final.out, gs://fc-353b14e5-19da-46ef-b358-f5b85cffef02/3651dc42-064c-4b38-b429-8bd9283eb785/NETseq/26e6d53c-a686-4220-99c7-5c051cf77255/call-BamToBedgraph/zwt-1.dedup.log          </td></tr>\n",
       "</tbody>\n",
       "</table>\n"
      ],
      "text/latex": [
       "A tibble: 7 × 9\n",
       "\\begin{tabular}{lllllllll}\n",
       " sample\\_id & dedup\\_bam & output\\_bam & bedgraph\\_pos & bedgraph\\_neg & inputFastQ & changepoints & logs.itemsType & logs.items\\\\\n",
       " <chr> & <chr> & <chr> & <chr> & <chr> & <chr> & <chr> & <chr> & <list>\\\\\n",
       "\\hline\n",
       "\t test-1 & gs://fc-353b14e5-19da-46ef-b358-f5b85cffef02/45f31e25-a41c-472d-91f6-ee516e7441eb/NETseq/5e70f931-53f4-4e38-97a7-265f29b1c50f/call-BamToBedgraph/test-1.dedup.bam         & gs://fc-353b14e5-19da-46ef-b358-f5b85cffef02/45f31e25-a41c-472d-91f6-ee516e7441eb/NETseq/5e70f931-53f4-4e38-97a7-265f29b1c50f/call-StarAlign/test-1.aligned.bam          & gs://fc-353b14e5-19da-46ef-b358-f5b85cffef02/45f31e25-a41c-472d-91f6-ee516e7441eb/NETseq/5e70f931-53f4-4e38-97a7-265f29b1c50f/call-BamToBedgraph/test-1.pos.bedgraph.gz         & gs://fc-353b14e5-19da-46ef-b358-f5b85cffef02/45f31e25-a41c-472d-91f6-ee516e7441eb/NETseq/5e70f931-53f4-4e38-97a7-265f29b1c50f/call-BamToBedgraph/test-1.neg.bedgraph.gz         & gs://fc-353b14e5-19da-46ef-b358-f5b85cffef02/test-1.fastq.gz & gs://fc-353b14e5-19da-46ef-b358-f5b85cffef02/fbb25897-45fd-4e50-9847-5388c7614350/netsq\\_to\\_changepoint/2f453de3-147c-4137-87fc-b26aaa69035c/call-DiscoverBreakpoints/test-1.cp.CEZINB.gff3 & AttributeValue & gs://fc-353b14e5-19da-46ef-b358-f5b85cffef02/45f31e25-a41c-472d-91f6-ee516e7441eb/NETseq/5e70f931-53f4-4e38-97a7-265f29b1c50f/call-StarAlign/test-1.Log.out      , gs://fc-353b14e5-19da-46ef-b358-f5b85cffef02/45f31e25-a41c-472d-91f6-ee516e7441eb/NETseq/5e70f931-53f4-4e38-97a7-265f29b1c50f/call-StarAlign/test-1.Log.std.out  , gs://fc-353b14e5-19da-46ef-b358-f5b85cffef02/45f31e25-a41c-472d-91f6-ee516e7441eb/NETseq/5e70f931-53f4-4e38-97a7-265f29b1c50f/call-StarAlign/test-1.Log.final.out, gs://fc-353b14e5-19da-46ef-b358-f5b85cffef02/45f31e25-a41c-472d-91f6-ee516e7441eb/NETseq/5e70f931-53f4-4e38-97a7-265f29b1c50f/call-BamToBedgraph/test-1.dedup.log\\\\\n",
       "\t wt-1   & gs://fc-353b14e5-19da-46ef-b358-f5b85cffef02/da5b23a1-73b8-4e2f-ae18-9cadf794e0d2/NETseq/af400abe-c96f-409d-9fa6-948f879c128b/call-BamToBedgraph/cacheCopy/wt-1.dedup.bam & gs://fc-353b14e5-19da-46ef-b358-f5b85cffef02/da5b23a1-73b8-4e2f-ae18-9cadf794e0d2/NETseq/af400abe-c96f-409d-9fa6-948f879c128b/call-StarAlign/cacheCopy/wt-1.aligned.bam  & gs://fc-353b14e5-19da-46ef-b358-f5b85cffef02/da5b23a1-73b8-4e2f-ae18-9cadf794e0d2/NETseq/af400abe-c96f-409d-9fa6-948f879c128b/call-BamToBedgraph/cacheCopy/wt-1.pos.bedgraph.gz & gs://fc-353b14e5-19da-46ef-b358-f5b85cffef02/da5b23a1-73b8-4e2f-ae18-9cadf794e0d2/NETseq/af400abe-c96f-409d-9fa6-948f879c128b/call-BamToBedgraph/cacheCopy/wt-1.neg.bedgraph.gz & gs://sra-pub-src-15/SRR12840066/wt-1.fastq.gz.1              & gs://fc-353b14e5-19da-46ef-b358-f5b85cffef02/50b43f2d-3c7d-4662-b652-9c44da505742/netsq\\_to\\_changepoint/84a1aef3-ddf2-4023-ae62-2caa30b6c233/call-DiscoverBreakpoints/wt-1.cp.CEZINB.gff3   & AttributeValue & gs://fc-353b14e5-19da-46ef-b358-f5b85cffef02/da5b23a1-73b8-4e2f-ae18-9cadf794e0d2/NETseq/af400abe-c96f-409d-9fa6-948f879c128b/call-StarAlign/cacheCopy/wt-1.Log.out      , gs://fc-353b14e5-19da-46ef-b358-f5b85cffef02/da5b23a1-73b8-4e2f-ae18-9cadf794e0d2/NETseq/af400abe-c96f-409d-9fa6-948f879c128b/call-StarAlign/cacheCopy/wt-1.Log.std.out  , gs://fc-353b14e5-19da-46ef-b358-f5b85cffef02/da5b23a1-73b8-4e2f-ae18-9cadf794e0d2/NETseq/af400abe-c96f-409d-9fa6-948f879c128b/call-StarAlign/cacheCopy/wt-1.Log.final.out, gs://fc-353b14e5-19da-46ef-b358-f5b85cffef02/da5b23a1-73b8-4e2f-ae18-9cadf794e0d2/NETseq/af400abe-c96f-409d-9fa6-948f879c128b/call-BamToBedgraph/cacheCopy/wt-1.dedup.log\\\\\n",
       "\t wt-2   & gs://fc-353b14e5-19da-46ef-b358-f5b85cffef02/50a3dcd6-f18c-4396-bd41-b6dbd86c0424/NETseq/0a094f44-e8c4-4ffd-9c73-99a8566ca3f9/call-BamToBedgraph/wt-2.dedup.bam           & gs://fc-353b14e5-19da-46ef-b358-f5b85cffef02/50a3dcd6-f18c-4396-bd41-b6dbd86c0424/NETseq/0a094f44-e8c4-4ffd-9c73-99a8566ca3f9/call-StarAlign/wt-2.aligned.bam            & gs://fc-353b14e5-19da-46ef-b358-f5b85cffef02/50a3dcd6-f18c-4396-bd41-b6dbd86c0424/NETseq/0a094f44-e8c4-4ffd-9c73-99a8566ca3f9/call-BamToBedgraph/wt-2.pos.bedgraph.gz           & gs://fc-353b14e5-19da-46ef-b358-f5b85cffef02/50a3dcd6-f18c-4396-bd41-b6dbd86c0424/NETseq/0a094f44-e8c4-4ffd-9c73-99a8566ca3f9/call-BamToBedgraph/wt-2.neg.bedgraph.gz           & gs://sra-pub-src-18/SRR12840067/wt-2.fastq.gz.1              & gs://fc-353b14e5-19da-46ef-b358-f5b85cffef02/50b43f2d-3c7d-4662-b652-9c44da505742/netsq\\_to\\_changepoint/4e8b1b10-bf8d-40f7-90ee-d55c9f77a97c/call-DiscoverBreakpoints/wt-2.cp.CEZINB.gff3   & AttributeValue & gs://fc-353b14e5-19da-46ef-b358-f5b85cffef02/50a3dcd6-f18c-4396-bd41-b6dbd86c0424/NETseq/0a094f44-e8c4-4ffd-9c73-99a8566ca3f9/call-StarAlign/wt-2.Log.out      , gs://fc-353b14e5-19da-46ef-b358-f5b85cffef02/50a3dcd6-f18c-4396-bd41-b6dbd86c0424/NETseq/0a094f44-e8c4-4ffd-9c73-99a8566ca3f9/call-StarAlign/wt-2.Log.std.out  , gs://fc-353b14e5-19da-46ef-b358-f5b85cffef02/50a3dcd6-f18c-4396-bd41-b6dbd86c0424/NETseq/0a094f44-e8c4-4ffd-9c73-99a8566ca3f9/call-StarAlign/wt-2.Log.final.out, gs://fc-353b14e5-19da-46ef-b358-f5b85cffef02/50a3dcd6-f18c-4396-bd41-b6dbd86c0424/NETseq/0a094f44-e8c4-4ffd-9c73-99a8566ca3f9/call-BamToBedgraph/wt-2.dedup.log\\\\\n",
       "\t wt-3   & gs://fc-353b14e5-19da-46ef-b358-f5b85cffef02/50a3dcd6-f18c-4396-bd41-b6dbd86c0424/NETseq/fb873ea4-9fe8-492d-b5a9-4b3d898052e5/call-BamToBedgraph/wt-3.dedup.bam           & gs://fc-353b14e5-19da-46ef-b358-f5b85cffef02/50a3dcd6-f18c-4396-bd41-b6dbd86c0424/NETseq/fb873ea4-9fe8-492d-b5a9-4b3d898052e5/call-StarAlign/wt-3.aligned.bam            & gs://fc-353b14e5-19da-46ef-b358-f5b85cffef02/50a3dcd6-f18c-4396-bd41-b6dbd86c0424/NETseq/fb873ea4-9fe8-492d-b5a9-4b3d898052e5/call-BamToBedgraph/wt-3.pos.bedgraph.gz           & gs://fc-353b14e5-19da-46ef-b358-f5b85cffef02/50a3dcd6-f18c-4396-bd41-b6dbd86c0424/NETseq/fb873ea4-9fe8-492d-b5a9-4b3d898052e5/call-BamToBedgraph/wt-3.neg.bedgraph.gz           & gs://sra-pub-src-18/SRR12840068/wt-3.fastq.gz.1              & gs://fc-353b14e5-19da-46ef-b358-f5b85cffef02/50b43f2d-3c7d-4662-b652-9c44da505742/netsq\\_to\\_changepoint/41a21b3a-7013-43ae-82d2-48a5b4cfce1b/call-DiscoverBreakpoints/wt-3.cp.CEZINB.gff3   & AttributeValue & gs://fc-353b14e5-19da-46ef-b358-f5b85cffef02/50a3dcd6-f18c-4396-bd41-b6dbd86c0424/NETseq/fb873ea4-9fe8-492d-b5a9-4b3d898052e5/call-StarAlign/wt-3.Log.out      , gs://fc-353b14e5-19da-46ef-b358-f5b85cffef02/50a3dcd6-f18c-4396-bd41-b6dbd86c0424/NETseq/fb873ea4-9fe8-492d-b5a9-4b3d898052e5/call-StarAlign/wt-3.Log.std.out  , gs://fc-353b14e5-19da-46ef-b358-f5b85cffef02/50a3dcd6-f18c-4396-bd41-b6dbd86c0424/NETseq/fb873ea4-9fe8-492d-b5a9-4b3d898052e5/call-StarAlign/wt-3.Log.final.out, gs://fc-353b14e5-19da-46ef-b358-f5b85cffef02/50a3dcd6-f18c-4396-bd41-b6dbd86c0424/NETseq/fb873ea4-9fe8-492d-b5a9-4b3d898052e5/call-BamToBedgraph/wt-3.dedup.log\\\\\n",
       "\t wt-4   & gs://fc-353b14e5-19da-46ef-b358-f5b85cffef02/50a3dcd6-f18c-4396-bd41-b6dbd86c0424/NETseq/dbd1769c-5bbc-4e1e-8a44-ec9b89fc7c2b/call-BamToBedgraph/wt-4.dedup.bam           & gs://fc-353b14e5-19da-46ef-b358-f5b85cffef02/50a3dcd6-f18c-4396-bd41-b6dbd86c0424/NETseq/dbd1769c-5bbc-4e1e-8a44-ec9b89fc7c2b/call-StarAlign/wt-4.aligned.bam            & gs://fc-353b14e5-19da-46ef-b358-f5b85cffef02/50a3dcd6-f18c-4396-bd41-b6dbd86c0424/NETseq/dbd1769c-5bbc-4e1e-8a44-ec9b89fc7c2b/call-BamToBedgraph/wt-4.pos.bedgraph.gz           & gs://fc-353b14e5-19da-46ef-b358-f5b85cffef02/50a3dcd6-f18c-4396-bd41-b6dbd86c0424/NETseq/dbd1769c-5bbc-4e1e-8a44-ec9b89fc7c2b/call-BamToBedgraph/wt-4.neg.bedgraph.gz           & gs://sra-pub-src-16/SRR12840069/wt-4.fastq.gz.1              & gs://fc-353b14e5-19da-46ef-b358-f5b85cffef02/50b43f2d-3c7d-4662-b652-9c44da505742/netsq\\_to\\_changepoint/8c7cc8da-bd4d-4e76-acad-9b21900aca15/call-DiscoverBreakpoints/wt-4.cp.CEZINB.gff3   & AttributeValue & gs://fc-353b14e5-19da-46ef-b358-f5b85cffef02/50a3dcd6-f18c-4396-bd41-b6dbd86c0424/NETseq/dbd1769c-5bbc-4e1e-8a44-ec9b89fc7c2b/call-StarAlign/wt-4.Log.out      , gs://fc-353b14e5-19da-46ef-b358-f5b85cffef02/50a3dcd6-f18c-4396-bd41-b6dbd86c0424/NETseq/dbd1769c-5bbc-4e1e-8a44-ec9b89fc7c2b/call-StarAlign/wt-4.Log.std.out  , gs://fc-353b14e5-19da-46ef-b358-f5b85cffef02/50a3dcd6-f18c-4396-bd41-b6dbd86c0424/NETseq/dbd1769c-5bbc-4e1e-8a44-ec9b89fc7c2b/call-StarAlign/wt-4.Log.final.out, gs://fc-353b14e5-19da-46ef-b358-f5b85cffef02/50a3dcd6-f18c-4396-bd41-b6dbd86c0424/NETseq/dbd1769c-5bbc-4e1e-8a44-ec9b89fc7c2b/call-BamToBedgraph/wt-4.dedup.log\\\\\n",
       "\t xwt-1  & gs://fc-353b14e5-19da-46ef-b358-f5b85cffef02/50a3dcd6-f18c-4396-bd41-b6dbd86c0424/NETseq/cf0ff745-3804-42ae-9f8a-adaa7e6f63b9/call-BamToBedgraph/xwt-1.dedup.bam          & gs://fc-353b14e5-19da-46ef-b358-f5b85cffef02/50a3dcd6-f18c-4396-bd41-b6dbd86c0424/NETseq/cf0ff745-3804-42ae-9f8a-adaa7e6f63b9/call-StarAlign/xwt-1.aligned.bam           & gs://fc-353b14e5-19da-46ef-b358-f5b85cffef02/50a3dcd6-f18c-4396-bd41-b6dbd86c0424/NETseq/cf0ff745-3804-42ae-9f8a-adaa7e6f63b9/call-BamToBedgraph/xwt-1.pos.bedgraph.gz          & gs://fc-353b14e5-19da-46ef-b358-f5b85cffef02/50a3dcd6-f18c-4396-bd41-b6dbd86c0424/NETseq/cf0ff745-3804-42ae-9f8a-adaa7e6f63b9/call-BamToBedgraph/xwt-1.neg.bedgraph.gz          & gs://fc-353b14e5-19da-46ef-b358-f5b85cffef02/xwt-1.fastq.gz  & NA                                                                                                                                                                                         & AttributeValue & gs://fc-353b14e5-19da-46ef-b358-f5b85cffef02/50a3dcd6-f18c-4396-bd41-b6dbd86c0424/NETseq/cf0ff745-3804-42ae-9f8a-adaa7e6f63b9/call-StarAlign/xwt-1.Log.out      , gs://fc-353b14e5-19da-46ef-b358-f5b85cffef02/50a3dcd6-f18c-4396-bd41-b6dbd86c0424/NETseq/cf0ff745-3804-42ae-9f8a-adaa7e6f63b9/call-StarAlign/xwt-1.Log.std.out  , gs://fc-353b14e5-19da-46ef-b358-f5b85cffef02/50a3dcd6-f18c-4396-bd41-b6dbd86c0424/NETseq/cf0ff745-3804-42ae-9f8a-adaa7e6f63b9/call-StarAlign/xwt-1.Log.final.out, gs://fc-353b14e5-19da-46ef-b358-f5b85cffef02/50a3dcd6-f18c-4396-bd41-b6dbd86c0424/NETseq/cf0ff745-3804-42ae-9f8a-adaa7e6f63b9/call-BamToBedgraph/xwt-1.dedup.log\\\\\n",
       "\t zwt-1  & gs://fc-353b14e5-19da-46ef-b358-f5b85cffef02/3651dc42-064c-4b38-b429-8bd9283eb785/NETseq/26e6d53c-a686-4220-99c7-5c051cf77255/call-BamToBedgraph/zwt-1.dedup.bam          & gs://fc-353b14e5-19da-46ef-b358-f5b85cffef02/3651dc42-064c-4b38-b429-8bd9283eb785/NETseq/26e6d53c-a686-4220-99c7-5c051cf77255/call-StarAlign/cacheCopy/zwt-1.aligned.bam & gs://fc-353b14e5-19da-46ef-b358-f5b85cffef02/3651dc42-064c-4b38-b429-8bd9283eb785/NETseq/26e6d53c-a686-4220-99c7-5c051cf77255/call-BamToBedgraph/zwt-1.pos.bedgraph.gz          & gs://fc-353b14e5-19da-46ef-b358-f5b85cffef02/3651dc42-064c-4b38-b429-8bd9283eb785/NETseq/26e6d53c-a686-4220-99c7-5c051cf77255/call-BamToBedgraph/zwt-1.neg.bedgraph.gz          & gs://sra-pub-src-15/SRR12840066/wt-1.fastq.gz.1              & NA                                                                                                                                                                                         & AttributeValue & gs://fc-353b14e5-19da-46ef-b358-f5b85cffef02/3651dc42-064c-4b38-b429-8bd9283eb785/NETseq/26e6d53c-a686-4220-99c7-5c051cf77255/call-StarAlign/cacheCopy/zwt-1.Log.out      , gs://fc-353b14e5-19da-46ef-b358-f5b85cffef02/3651dc42-064c-4b38-b429-8bd9283eb785/NETseq/26e6d53c-a686-4220-99c7-5c051cf77255/call-StarAlign/cacheCopy/zwt-1.Log.std.out  , gs://fc-353b14e5-19da-46ef-b358-f5b85cffef02/3651dc42-064c-4b38-b429-8bd9283eb785/NETseq/26e6d53c-a686-4220-99c7-5c051cf77255/call-StarAlign/cacheCopy/zwt-1.Log.final.out, gs://fc-353b14e5-19da-46ef-b358-f5b85cffef02/3651dc42-064c-4b38-b429-8bd9283eb785/NETseq/26e6d53c-a686-4220-99c7-5c051cf77255/call-BamToBedgraph/zwt-1.dedup.log          \\\\\n",
       "\\end{tabular}\n"
      ],
      "text/markdown": [
       "\n",
       "A tibble: 7 × 9\n",
       "\n",
       "| sample_id &lt;chr&gt; | dedup_bam &lt;chr&gt; | output_bam &lt;chr&gt; | bedgraph_pos &lt;chr&gt; | bedgraph_neg &lt;chr&gt; | inputFastQ &lt;chr&gt; | changepoints &lt;chr&gt; | logs.itemsType &lt;chr&gt; | logs.items &lt;list&gt; |\n",
       "|---|---|---|---|---|---|---|---|---|\n",
       "| test-1 | gs://fc-353b14e5-19da-46ef-b358-f5b85cffef02/45f31e25-a41c-472d-91f6-ee516e7441eb/NETseq/5e70f931-53f4-4e38-97a7-265f29b1c50f/call-BamToBedgraph/test-1.dedup.bam         | gs://fc-353b14e5-19da-46ef-b358-f5b85cffef02/45f31e25-a41c-472d-91f6-ee516e7441eb/NETseq/5e70f931-53f4-4e38-97a7-265f29b1c50f/call-StarAlign/test-1.aligned.bam          | gs://fc-353b14e5-19da-46ef-b358-f5b85cffef02/45f31e25-a41c-472d-91f6-ee516e7441eb/NETseq/5e70f931-53f4-4e38-97a7-265f29b1c50f/call-BamToBedgraph/test-1.pos.bedgraph.gz         | gs://fc-353b14e5-19da-46ef-b358-f5b85cffef02/45f31e25-a41c-472d-91f6-ee516e7441eb/NETseq/5e70f931-53f4-4e38-97a7-265f29b1c50f/call-BamToBedgraph/test-1.neg.bedgraph.gz         | gs://fc-353b14e5-19da-46ef-b358-f5b85cffef02/test-1.fastq.gz | gs://fc-353b14e5-19da-46ef-b358-f5b85cffef02/fbb25897-45fd-4e50-9847-5388c7614350/netsq_to_changepoint/2f453de3-147c-4137-87fc-b26aaa69035c/call-DiscoverBreakpoints/test-1.cp.CEZINB.gff3 | AttributeValue | gs://fc-353b14e5-19da-46ef-b358-f5b85cffef02/45f31e25-a41c-472d-91f6-ee516e7441eb/NETseq/5e70f931-53f4-4e38-97a7-265f29b1c50f/call-StarAlign/test-1.Log.out      , gs://fc-353b14e5-19da-46ef-b358-f5b85cffef02/45f31e25-a41c-472d-91f6-ee516e7441eb/NETseq/5e70f931-53f4-4e38-97a7-265f29b1c50f/call-StarAlign/test-1.Log.std.out  , gs://fc-353b14e5-19da-46ef-b358-f5b85cffef02/45f31e25-a41c-472d-91f6-ee516e7441eb/NETseq/5e70f931-53f4-4e38-97a7-265f29b1c50f/call-StarAlign/test-1.Log.final.out, gs://fc-353b14e5-19da-46ef-b358-f5b85cffef02/45f31e25-a41c-472d-91f6-ee516e7441eb/NETseq/5e70f931-53f4-4e38-97a7-265f29b1c50f/call-BamToBedgraph/test-1.dedup.log |\n",
       "| wt-1   | gs://fc-353b14e5-19da-46ef-b358-f5b85cffef02/da5b23a1-73b8-4e2f-ae18-9cadf794e0d2/NETseq/af400abe-c96f-409d-9fa6-948f879c128b/call-BamToBedgraph/cacheCopy/wt-1.dedup.bam | gs://fc-353b14e5-19da-46ef-b358-f5b85cffef02/da5b23a1-73b8-4e2f-ae18-9cadf794e0d2/NETseq/af400abe-c96f-409d-9fa6-948f879c128b/call-StarAlign/cacheCopy/wt-1.aligned.bam  | gs://fc-353b14e5-19da-46ef-b358-f5b85cffef02/da5b23a1-73b8-4e2f-ae18-9cadf794e0d2/NETseq/af400abe-c96f-409d-9fa6-948f879c128b/call-BamToBedgraph/cacheCopy/wt-1.pos.bedgraph.gz | gs://fc-353b14e5-19da-46ef-b358-f5b85cffef02/da5b23a1-73b8-4e2f-ae18-9cadf794e0d2/NETseq/af400abe-c96f-409d-9fa6-948f879c128b/call-BamToBedgraph/cacheCopy/wt-1.neg.bedgraph.gz | gs://sra-pub-src-15/SRR12840066/wt-1.fastq.gz.1              | gs://fc-353b14e5-19da-46ef-b358-f5b85cffef02/50b43f2d-3c7d-4662-b652-9c44da505742/netsq_to_changepoint/84a1aef3-ddf2-4023-ae62-2caa30b6c233/call-DiscoverBreakpoints/wt-1.cp.CEZINB.gff3   | AttributeValue | gs://fc-353b14e5-19da-46ef-b358-f5b85cffef02/da5b23a1-73b8-4e2f-ae18-9cadf794e0d2/NETseq/af400abe-c96f-409d-9fa6-948f879c128b/call-StarAlign/cacheCopy/wt-1.Log.out      , gs://fc-353b14e5-19da-46ef-b358-f5b85cffef02/da5b23a1-73b8-4e2f-ae18-9cadf794e0d2/NETseq/af400abe-c96f-409d-9fa6-948f879c128b/call-StarAlign/cacheCopy/wt-1.Log.std.out  , gs://fc-353b14e5-19da-46ef-b358-f5b85cffef02/da5b23a1-73b8-4e2f-ae18-9cadf794e0d2/NETseq/af400abe-c96f-409d-9fa6-948f879c128b/call-StarAlign/cacheCopy/wt-1.Log.final.out, gs://fc-353b14e5-19da-46ef-b358-f5b85cffef02/da5b23a1-73b8-4e2f-ae18-9cadf794e0d2/NETseq/af400abe-c96f-409d-9fa6-948f879c128b/call-BamToBedgraph/cacheCopy/wt-1.dedup.log |\n",
       "| wt-2   | gs://fc-353b14e5-19da-46ef-b358-f5b85cffef02/50a3dcd6-f18c-4396-bd41-b6dbd86c0424/NETseq/0a094f44-e8c4-4ffd-9c73-99a8566ca3f9/call-BamToBedgraph/wt-2.dedup.bam           | gs://fc-353b14e5-19da-46ef-b358-f5b85cffef02/50a3dcd6-f18c-4396-bd41-b6dbd86c0424/NETseq/0a094f44-e8c4-4ffd-9c73-99a8566ca3f9/call-StarAlign/wt-2.aligned.bam            | gs://fc-353b14e5-19da-46ef-b358-f5b85cffef02/50a3dcd6-f18c-4396-bd41-b6dbd86c0424/NETseq/0a094f44-e8c4-4ffd-9c73-99a8566ca3f9/call-BamToBedgraph/wt-2.pos.bedgraph.gz           | gs://fc-353b14e5-19da-46ef-b358-f5b85cffef02/50a3dcd6-f18c-4396-bd41-b6dbd86c0424/NETseq/0a094f44-e8c4-4ffd-9c73-99a8566ca3f9/call-BamToBedgraph/wt-2.neg.bedgraph.gz           | gs://sra-pub-src-18/SRR12840067/wt-2.fastq.gz.1              | gs://fc-353b14e5-19da-46ef-b358-f5b85cffef02/50b43f2d-3c7d-4662-b652-9c44da505742/netsq_to_changepoint/4e8b1b10-bf8d-40f7-90ee-d55c9f77a97c/call-DiscoverBreakpoints/wt-2.cp.CEZINB.gff3   | AttributeValue | gs://fc-353b14e5-19da-46ef-b358-f5b85cffef02/50a3dcd6-f18c-4396-bd41-b6dbd86c0424/NETseq/0a094f44-e8c4-4ffd-9c73-99a8566ca3f9/call-StarAlign/wt-2.Log.out      , gs://fc-353b14e5-19da-46ef-b358-f5b85cffef02/50a3dcd6-f18c-4396-bd41-b6dbd86c0424/NETseq/0a094f44-e8c4-4ffd-9c73-99a8566ca3f9/call-StarAlign/wt-2.Log.std.out  , gs://fc-353b14e5-19da-46ef-b358-f5b85cffef02/50a3dcd6-f18c-4396-bd41-b6dbd86c0424/NETseq/0a094f44-e8c4-4ffd-9c73-99a8566ca3f9/call-StarAlign/wt-2.Log.final.out, gs://fc-353b14e5-19da-46ef-b358-f5b85cffef02/50a3dcd6-f18c-4396-bd41-b6dbd86c0424/NETseq/0a094f44-e8c4-4ffd-9c73-99a8566ca3f9/call-BamToBedgraph/wt-2.dedup.log |\n",
       "| wt-3   | gs://fc-353b14e5-19da-46ef-b358-f5b85cffef02/50a3dcd6-f18c-4396-bd41-b6dbd86c0424/NETseq/fb873ea4-9fe8-492d-b5a9-4b3d898052e5/call-BamToBedgraph/wt-3.dedup.bam           | gs://fc-353b14e5-19da-46ef-b358-f5b85cffef02/50a3dcd6-f18c-4396-bd41-b6dbd86c0424/NETseq/fb873ea4-9fe8-492d-b5a9-4b3d898052e5/call-StarAlign/wt-3.aligned.bam            | gs://fc-353b14e5-19da-46ef-b358-f5b85cffef02/50a3dcd6-f18c-4396-bd41-b6dbd86c0424/NETseq/fb873ea4-9fe8-492d-b5a9-4b3d898052e5/call-BamToBedgraph/wt-3.pos.bedgraph.gz           | gs://fc-353b14e5-19da-46ef-b358-f5b85cffef02/50a3dcd6-f18c-4396-bd41-b6dbd86c0424/NETseq/fb873ea4-9fe8-492d-b5a9-4b3d898052e5/call-BamToBedgraph/wt-3.neg.bedgraph.gz           | gs://sra-pub-src-18/SRR12840068/wt-3.fastq.gz.1              | gs://fc-353b14e5-19da-46ef-b358-f5b85cffef02/50b43f2d-3c7d-4662-b652-9c44da505742/netsq_to_changepoint/41a21b3a-7013-43ae-82d2-48a5b4cfce1b/call-DiscoverBreakpoints/wt-3.cp.CEZINB.gff3   | AttributeValue | gs://fc-353b14e5-19da-46ef-b358-f5b85cffef02/50a3dcd6-f18c-4396-bd41-b6dbd86c0424/NETseq/fb873ea4-9fe8-492d-b5a9-4b3d898052e5/call-StarAlign/wt-3.Log.out      , gs://fc-353b14e5-19da-46ef-b358-f5b85cffef02/50a3dcd6-f18c-4396-bd41-b6dbd86c0424/NETseq/fb873ea4-9fe8-492d-b5a9-4b3d898052e5/call-StarAlign/wt-3.Log.std.out  , gs://fc-353b14e5-19da-46ef-b358-f5b85cffef02/50a3dcd6-f18c-4396-bd41-b6dbd86c0424/NETseq/fb873ea4-9fe8-492d-b5a9-4b3d898052e5/call-StarAlign/wt-3.Log.final.out, gs://fc-353b14e5-19da-46ef-b358-f5b85cffef02/50a3dcd6-f18c-4396-bd41-b6dbd86c0424/NETseq/fb873ea4-9fe8-492d-b5a9-4b3d898052e5/call-BamToBedgraph/wt-3.dedup.log |\n",
       "| wt-4   | gs://fc-353b14e5-19da-46ef-b358-f5b85cffef02/50a3dcd6-f18c-4396-bd41-b6dbd86c0424/NETseq/dbd1769c-5bbc-4e1e-8a44-ec9b89fc7c2b/call-BamToBedgraph/wt-4.dedup.bam           | gs://fc-353b14e5-19da-46ef-b358-f5b85cffef02/50a3dcd6-f18c-4396-bd41-b6dbd86c0424/NETseq/dbd1769c-5bbc-4e1e-8a44-ec9b89fc7c2b/call-StarAlign/wt-4.aligned.bam            | gs://fc-353b14e5-19da-46ef-b358-f5b85cffef02/50a3dcd6-f18c-4396-bd41-b6dbd86c0424/NETseq/dbd1769c-5bbc-4e1e-8a44-ec9b89fc7c2b/call-BamToBedgraph/wt-4.pos.bedgraph.gz           | gs://fc-353b14e5-19da-46ef-b358-f5b85cffef02/50a3dcd6-f18c-4396-bd41-b6dbd86c0424/NETseq/dbd1769c-5bbc-4e1e-8a44-ec9b89fc7c2b/call-BamToBedgraph/wt-4.neg.bedgraph.gz           | gs://sra-pub-src-16/SRR12840069/wt-4.fastq.gz.1              | gs://fc-353b14e5-19da-46ef-b358-f5b85cffef02/50b43f2d-3c7d-4662-b652-9c44da505742/netsq_to_changepoint/8c7cc8da-bd4d-4e76-acad-9b21900aca15/call-DiscoverBreakpoints/wt-4.cp.CEZINB.gff3   | AttributeValue | gs://fc-353b14e5-19da-46ef-b358-f5b85cffef02/50a3dcd6-f18c-4396-bd41-b6dbd86c0424/NETseq/dbd1769c-5bbc-4e1e-8a44-ec9b89fc7c2b/call-StarAlign/wt-4.Log.out      , gs://fc-353b14e5-19da-46ef-b358-f5b85cffef02/50a3dcd6-f18c-4396-bd41-b6dbd86c0424/NETseq/dbd1769c-5bbc-4e1e-8a44-ec9b89fc7c2b/call-StarAlign/wt-4.Log.std.out  , gs://fc-353b14e5-19da-46ef-b358-f5b85cffef02/50a3dcd6-f18c-4396-bd41-b6dbd86c0424/NETseq/dbd1769c-5bbc-4e1e-8a44-ec9b89fc7c2b/call-StarAlign/wt-4.Log.final.out, gs://fc-353b14e5-19da-46ef-b358-f5b85cffef02/50a3dcd6-f18c-4396-bd41-b6dbd86c0424/NETseq/dbd1769c-5bbc-4e1e-8a44-ec9b89fc7c2b/call-BamToBedgraph/wt-4.dedup.log |\n",
       "| xwt-1  | gs://fc-353b14e5-19da-46ef-b358-f5b85cffef02/50a3dcd6-f18c-4396-bd41-b6dbd86c0424/NETseq/cf0ff745-3804-42ae-9f8a-adaa7e6f63b9/call-BamToBedgraph/xwt-1.dedup.bam          | gs://fc-353b14e5-19da-46ef-b358-f5b85cffef02/50a3dcd6-f18c-4396-bd41-b6dbd86c0424/NETseq/cf0ff745-3804-42ae-9f8a-adaa7e6f63b9/call-StarAlign/xwt-1.aligned.bam           | gs://fc-353b14e5-19da-46ef-b358-f5b85cffef02/50a3dcd6-f18c-4396-bd41-b6dbd86c0424/NETseq/cf0ff745-3804-42ae-9f8a-adaa7e6f63b9/call-BamToBedgraph/xwt-1.pos.bedgraph.gz          | gs://fc-353b14e5-19da-46ef-b358-f5b85cffef02/50a3dcd6-f18c-4396-bd41-b6dbd86c0424/NETseq/cf0ff745-3804-42ae-9f8a-adaa7e6f63b9/call-BamToBedgraph/xwt-1.neg.bedgraph.gz          | gs://fc-353b14e5-19da-46ef-b358-f5b85cffef02/xwt-1.fastq.gz  | NA                                                                                                                                                                                         | AttributeValue | gs://fc-353b14e5-19da-46ef-b358-f5b85cffef02/50a3dcd6-f18c-4396-bd41-b6dbd86c0424/NETseq/cf0ff745-3804-42ae-9f8a-adaa7e6f63b9/call-StarAlign/xwt-1.Log.out      , gs://fc-353b14e5-19da-46ef-b358-f5b85cffef02/50a3dcd6-f18c-4396-bd41-b6dbd86c0424/NETseq/cf0ff745-3804-42ae-9f8a-adaa7e6f63b9/call-StarAlign/xwt-1.Log.std.out  , gs://fc-353b14e5-19da-46ef-b358-f5b85cffef02/50a3dcd6-f18c-4396-bd41-b6dbd86c0424/NETseq/cf0ff745-3804-42ae-9f8a-adaa7e6f63b9/call-StarAlign/xwt-1.Log.final.out, gs://fc-353b14e5-19da-46ef-b358-f5b85cffef02/50a3dcd6-f18c-4396-bd41-b6dbd86c0424/NETseq/cf0ff745-3804-42ae-9f8a-adaa7e6f63b9/call-BamToBedgraph/xwt-1.dedup.log |\n",
       "| zwt-1  | gs://fc-353b14e5-19da-46ef-b358-f5b85cffef02/3651dc42-064c-4b38-b429-8bd9283eb785/NETseq/26e6d53c-a686-4220-99c7-5c051cf77255/call-BamToBedgraph/zwt-1.dedup.bam          | gs://fc-353b14e5-19da-46ef-b358-f5b85cffef02/3651dc42-064c-4b38-b429-8bd9283eb785/NETseq/26e6d53c-a686-4220-99c7-5c051cf77255/call-StarAlign/cacheCopy/zwt-1.aligned.bam | gs://fc-353b14e5-19da-46ef-b358-f5b85cffef02/3651dc42-064c-4b38-b429-8bd9283eb785/NETseq/26e6d53c-a686-4220-99c7-5c051cf77255/call-BamToBedgraph/zwt-1.pos.bedgraph.gz          | gs://fc-353b14e5-19da-46ef-b358-f5b85cffef02/3651dc42-064c-4b38-b429-8bd9283eb785/NETseq/26e6d53c-a686-4220-99c7-5c051cf77255/call-BamToBedgraph/zwt-1.neg.bedgraph.gz          | gs://sra-pub-src-15/SRR12840066/wt-1.fastq.gz.1              | NA                                                                                                                                                                                         | AttributeValue | gs://fc-353b14e5-19da-46ef-b358-f5b85cffef02/3651dc42-064c-4b38-b429-8bd9283eb785/NETseq/26e6d53c-a686-4220-99c7-5c051cf77255/call-StarAlign/cacheCopy/zwt-1.Log.out      , gs://fc-353b14e5-19da-46ef-b358-f5b85cffef02/3651dc42-064c-4b38-b429-8bd9283eb785/NETseq/26e6d53c-a686-4220-99c7-5c051cf77255/call-StarAlign/cacheCopy/zwt-1.Log.std.out  , gs://fc-353b14e5-19da-46ef-b358-f5b85cffef02/3651dc42-064c-4b38-b429-8bd9283eb785/NETseq/26e6d53c-a686-4220-99c7-5c051cf77255/call-StarAlign/cacheCopy/zwt-1.Log.final.out, gs://fc-353b14e5-19da-46ef-b358-f5b85cffef02/3651dc42-064c-4b38-b429-8bd9283eb785/NETseq/26e6d53c-a686-4220-99c7-5c051cf77255/call-BamToBedgraph/zwt-1.dedup.log           |\n",
       "\n"
      ],
      "text/plain": [
       "  sample_id\n",
       "1 test-1   \n",
       "2 wt-1     \n",
       "3 wt-2     \n",
       "4 wt-3     \n",
       "5 wt-4     \n",
       "6 xwt-1    \n",
       "7 zwt-1    \n",
       "  dedup_bam                                                                                                                                                                \n",
       "1 gs://fc-353b14e5-19da-46ef-b358-f5b85cffef02/45f31e25-a41c-472d-91f6-ee516e7441eb/NETseq/5e70f931-53f4-4e38-97a7-265f29b1c50f/call-BamToBedgraph/test-1.dedup.bam        \n",
       "2 gs://fc-353b14e5-19da-46ef-b358-f5b85cffef02/da5b23a1-73b8-4e2f-ae18-9cadf794e0d2/NETseq/af400abe-c96f-409d-9fa6-948f879c128b/call-BamToBedgraph/cacheCopy/wt-1.dedup.bam\n",
       "3 gs://fc-353b14e5-19da-46ef-b358-f5b85cffef02/50a3dcd6-f18c-4396-bd41-b6dbd86c0424/NETseq/0a094f44-e8c4-4ffd-9c73-99a8566ca3f9/call-BamToBedgraph/wt-2.dedup.bam          \n",
       "4 gs://fc-353b14e5-19da-46ef-b358-f5b85cffef02/50a3dcd6-f18c-4396-bd41-b6dbd86c0424/NETseq/fb873ea4-9fe8-492d-b5a9-4b3d898052e5/call-BamToBedgraph/wt-3.dedup.bam          \n",
       "5 gs://fc-353b14e5-19da-46ef-b358-f5b85cffef02/50a3dcd6-f18c-4396-bd41-b6dbd86c0424/NETseq/dbd1769c-5bbc-4e1e-8a44-ec9b89fc7c2b/call-BamToBedgraph/wt-4.dedup.bam          \n",
       "6 gs://fc-353b14e5-19da-46ef-b358-f5b85cffef02/50a3dcd6-f18c-4396-bd41-b6dbd86c0424/NETseq/cf0ff745-3804-42ae-9f8a-adaa7e6f63b9/call-BamToBedgraph/xwt-1.dedup.bam         \n",
       "7 gs://fc-353b14e5-19da-46ef-b358-f5b85cffef02/3651dc42-064c-4b38-b429-8bd9283eb785/NETseq/26e6d53c-a686-4220-99c7-5c051cf77255/call-BamToBedgraph/zwt-1.dedup.bam         \n",
       "  output_bam                                                                                                                                                              \n",
       "1 gs://fc-353b14e5-19da-46ef-b358-f5b85cffef02/45f31e25-a41c-472d-91f6-ee516e7441eb/NETseq/5e70f931-53f4-4e38-97a7-265f29b1c50f/call-StarAlign/test-1.aligned.bam         \n",
       "2 gs://fc-353b14e5-19da-46ef-b358-f5b85cffef02/da5b23a1-73b8-4e2f-ae18-9cadf794e0d2/NETseq/af400abe-c96f-409d-9fa6-948f879c128b/call-StarAlign/cacheCopy/wt-1.aligned.bam \n",
       "3 gs://fc-353b14e5-19da-46ef-b358-f5b85cffef02/50a3dcd6-f18c-4396-bd41-b6dbd86c0424/NETseq/0a094f44-e8c4-4ffd-9c73-99a8566ca3f9/call-StarAlign/wt-2.aligned.bam           \n",
       "4 gs://fc-353b14e5-19da-46ef-b358-f5b85cffef02/50a3dcd6-f18c-4396-bd41-b6dbd86c0424/NETseq/fb873ea4-9fe8-492d-b5a9-4b3d898052e5/call-StarAlign/wt-3.aligned.bam           \n",
       "5 gs://fc-353b14e5-19da-46ef-b358-f5b85cffef02/50a3dcd6-f18c-4396-bd41-b6dbd86c0424/NETseq/dbd1769c-5bbc-4e1e-8a44-ec9b89fc7c2b/call-StarAlign/wt-4.aligned.bam           \n",
       "6 gs://fc-353b14e5-19da-46ef-b358-f5b85cffef02/50a3dcd6-f18c-4396-bd41-b6dbd86c0424/NETseq/cf0ff745-3804-42ae-9f8a-adaa7e6f63b9/call-StarAlign/xwt-1.aligned.bam          \n",
       "7 gs://fc-353b14e5-19da-46ef-b358-f5b85cffef02/3651dc42-064c-4b38-b429-8bd9283eb785/NETseq/26e6d53c-a686-4220-99c7-5c051cf77255/call-StarAlign/cacheCopy/zwt-1.aligned.bam\n",
       "  bedgraph_pos                                                                                                                                                                   \n",
       "1 gs://fc-353b14e5-19da-46ef-b358-f5b85cffef02/45f31e25-a41c-472d-91f6-ee516e7441eb/NETseq/5e70f931-53f4-4e38-97a7-265f29b1c50f/call-BamToBedgraph/test-1.pos.bedgraph.gz        \n",
       "2 gs://fc-353b14e5-19da-46ef-b358-f5b85cffef02/da5b23a1-73b8-4e2f-ae18-9cadf794e0d2/NETseq/af400abe-c96f-409d-9fa6-948f879c128b/call-BamToBedgraph/cacheCopy/wt-1.pos.bedgraph.gz\n",
       "3 gs://fc-353b14e5-19da-46ef-b358-f5b85cffef02/50a3dcd6-f18c-4396-bd41-b6dbd86c0424/NETseq/0a094f44-e8c4-4ffd-9c73-99a8566ca3f9/call-BamToBedgraph/wt-2.pos.bedgraph.gz          \n",
       "4 gs://fc-353b14e5-19da-46ef-b358-f5b85cffef02/50a3dcd6-f18c-4396-bd41-b6dbd86c0424/NETseq/fb873ea4-9fe8-492d-b5a9-4b3d898052e5/call-BamToBedgraph/wt-3.pos.bedgraph.gz          \n",
       "5 gs://fc-353b14e5-19da-46ef-b358-f5b85cffef02/50a3dcd6-f18c-4396-bd41-b6dbd86c0424/NETseq/dbd1769c-5bbc-4e1e-8a44-ec9b89fc7c2b/call-BamToBedgraph/wt-4.pos.bedgraph.gz          \n",
       "6 gs://fc-353b14e5-19da-46ef-b358-f5b85cffef02/50a3dcd6-f18c-4396-bd41-b6dbd86c0424/NETseq/cf0ff745-3804-42ae-9f8a-adaa7e6f63b9/call-BamToBedgraph/xwt-1.pos.bedgraph.gz         \n",
       "7 gs://fc-353b14e5-19da-46ef-b358-f5b85cffef02/3651dc42-064c-4b38-b429-8bd9283eb785/NETseq/26e6d53c-a686-4220-99c7-5c051cf77255/call-BamToBedgraph/zwt-1.pos.bedgraph.gz         \n",
       "  bedgraph_neg                                                                                                                                                                   \n",
       "1 gs://fc-353b14e5-19da-46ef-b358-f5b85cffef02/45f31e25-a41c-472d-91f6-ee516e7441eb/NETseq/5e70f931-53f4-4e38-97a7-265f29b1c50f/call-BamToBedgraph/test-1.neg.bedgraph.gz        \n",
       "2 gs://fc-353b14e5-19da-46ef-b358-f5b85cffef02/da5b23a1-73b8-4e2f-ae18-9cadf794e0d2/NETseq/af400abe-c96f-409d-9fa6-948f879c128b/call-BamToBedgraph/cacheCopy/wt-1.neg.bedgraph.gz\n",
       "3 gs://fc-353b14e5-19da-46ef-b358-f5b85cffef02/50a3dcd6-f18c-4396-bd41-b6dbd86c0424/NETseq/0a094f44-e8c4-4ffd-9c73-99a8566ca3f9/call-BamToBedgraph/wt-2.neg.bedgraph.gz          \n",
       "4 gs://fc-353b14e5-19da-46ef-b358-f5b85cffef02/50a3dcd6-f18c-4396-bd41-b6dbd86c0424/NETseq/fb873ea4-9fe8-492d-b5a9-4b3d898052e5/call-BamToBedgraph/wt-3.neg.bedgraph.gz          \n",
       "5 gs://fc-353b14e5-19da-46ef-b358-f5b85cffef02/50a3dcd6-f18c-4396-bd41-b6dbd86c0424/NETseq/dbd1769c-5bbc-4e1e-8a44-ec9b89fc7c2b/call-BamToBedgraph/wt-4.neg.bedgraph.gz          \n",
       "6 gs://fc-353b14e5-19da-46ef-b358-f5b85cffef02/50a3dcd6-f18c-4396-bd41-b6dbd86c0424/NETseq/cf0ff745-3804-42ae-9f8a-adaa7e6f63b9/call-BamToBedgraph/xwt-1.neg.bedgraph.gz         \n",
       "7 gs://fc-353b14e5-19da-46ef-b358-f5b85cffef02/3651dc42-064c-4b38-b429-8bd9283eb785/NETseq/26e6d53c-a686-4220-99c7-5c051cf77255/call-BamToBedgraph/zwt-1.neg.bedgraph.gz         \n",
       "  inputFastQ                                                  \n",
       "1 gs://fc-353b14e5-19da-46ef-b358-f5b85cffef02/test-1.fastq.gz\n",
       "2 gs://sra-pub-src-15/SRR12840066/wt-1.fastq.gz.1             \n",
       "3 gs://sra-pub-src-18/SRR12840067/wt-2.fastq.gz.1             \n",
       "4 gs://sra-pub-src-18/SRR12840068/wt-3.fastq.gz.1             \n",
       "5 gs://sra-pub-src-16/SRR12840069/wt-4.fastq.gz.1             \n",
       "6 gs://fc-353b14e5-19da-46ef-b358-f5b85cffef02/xwt-1.fastq.gz \n",
       "7 gs://sra-pub-src-15/SRR12840066/wt-1.fastq.gz.1             \n",
       "  changepoints                                                                                                                                                                              \n",
       "1 gs://fc-353b14e5-19da-46ef-b358-f5b85cffef02/fbb25897-45fd-4e50-9847-5388c7614350/netsq_to_changepoint/2f453de3-147c-4137-87fc-b26aaa69035c/call-DiscoverBreakpoints/test-1.cp.CEZINB.gff3\n",
       "2 gs://fc-353b14e5-19da-46ef-b358-f5b85cffef02/50b43f2d-3c7d-4662-b652-9c44da505742/netsq_to_changepoint/84a1aef3-ddf2-4023-ae62-2caa30b6c233/call-DiscoverBreakpoints/wt-1.cp.CEZINB.gff3  \n",
       "3 gs://fc-353b14e5-19da-46ef-b358-f5b85cffef02/50b43f2d-3c7d-4662-b652-9c44da505742/netsq_to_changepoint/4e8b1b10-bf8d-40f7-90ee-d55c9f77a97c/call-DiscoverBreakpoints/wt-2.cp.CEZINB.gff3  \n",
       "4 gs://fc-353b14e5-19da-46ef-b358-f5b85cffef02/50b43f2d-3c7d-4662-b652-9c44da505742/netsq_to_changepoint/41a21b3a-7013-43ae-82d2-48a5b4cfce1b/call-DiscoverBreakpoints/wt-3.cp.CEZINB.gff3  \n",
       "5 gs://fc-353b14e5-19da-46ef-b358-f5b85cffef02/50b43f2d-3c7d-4662-b652-9c44da505742/netsq_to_changepoint/8c7cc8da-bd4d-4e76-acad-9b21900aca15/call-DiscoverBreakpoints/wt-4.cp.CEZINB.gff3  \n",
       "6 NA                                                                                                                                                                                        \n",
       "7 NA                                                                                                                                                                                        \n",
       "  logs.itemsType\n",
       "1 AttributeValue\n",
       "2 AttributeValue\n",
       "3 AttributeValue\n",
       "4 AttributeValue\n",
       "5 AttributeValue\n",
       "6 AttributeValue\n",
       "7 AttributeValue\n",
       "  logs.items                                                                                                                                                                                                                                                                                                                                                                                                                                                                                                                                                                                                                                                                                                    \n",
       "1 gs://fc-353b14e5-19da-46ef-b358-f5b85cffef02/45f31e25-a41c-472d-91f6-ee516e7441eb/NETseq/5e70f931-53f4-4e38-97a7-265f29b1c50f/call-StarAlign/test-1.Log.out      , gs://fc-353b14e5-19da-46ef-b358-f5b85cffef02/45f31e25-a41c-472d-91f6-ee516e7441eb/NETseq/5e70f931-53f4-4e38-97a7-265f29b1c50f/call-StarAlign/test-1.Log.std.out  , gs://fc-353b14e5-19da-46ef-b358-f5b85cffef02/45f31e25-a41c-472d-91f6-ee516e7441eb/NETseq/5e70f931-53f4-4e38-97a7-265f29b1c50f/call-StarAlign/test-1.Log.final.out, gs://fc-353b14e5-19da-46ef-b358-f5b85cffef02/45f31e25-a41c-472d-91f6-ee516e7441eb/NETseq/5e70f931-53f4-4e38-97a7-265f29b1c50f/call-BamToBedgraph/test-1.dedup.log                                    \n",
       "2 gs://fc-353b14e5-19da-46ef-b358-f5b85cffef02/da5b23a1-73b8-4e2f-ae18-9cadf794e0d2/NETseq/af400abe-c96f-409d-9fa6-948f879c128b/call-StarAlign/cacheCopy/wt-1.Log.out      , gs://fc-353b14e5-19da-46ef-b358-f5b85cffef02/da5b23a1-73b8-4e2f-ae18-9cadf794e0d2/NETseq/af400abe-c96f-409d-9fa6-948f879c128b/call-StarAlign/cacheCopy/wt-1.Log.std.out  , gs://fc-353b14e5-19da-46ef-b358-f5b85cffef02/da5b23a1-73b8-4e2f-ae18-9cadf794e0d2/NETseq/af400abe-c96f-409d-9fa6-948f879c128b/call-StarAlign/cacheCopy/wt-1.Log.final.out, gs://fc-353b14e5-19da-46ef-b358-f5b85cffef02/da5b23a1-73b8-4e2f-ae18-9cadf794e0d2/NETseq/af400abe-c96f-409d-9fa6-948f879c128b/call-BamToBedgraph/cacheCopy/wt-1.dedup.log    \n",
       "3 gs://fc-353b14e5-19da-46ef-b358-f5b85cffef02/50a3dcd6-f18c-4396-bd41-b6dbd86c0424/NETseq/0a094f44-e8c4-4ffd-9c73-99a8566ca3f9/call-StarAlign/wt-2.Log.out      , gs://fc-353b14e5-19da-46ef-b358-f5b85cffef02/50a3dcd6-f18c-4396-bd41-b6dbd86c0424/NETseq/0a094f44-e8c4-4ffd-9c73-99a8566ca3f9/call-StarAlign/wt-2.Log.std.out  , gs://fc-353b14e5-19da-46ef-b358-f5b85cffef02/50a3dcd6-f18c-4396-bd41-b6dbd86c0424/NETseq/0a094f44-e8c4-4ffd-9c73-99a8566ca3f9/call-StarAlign/wt-2.Log.final.out, gs://fc-353b14e5-19da-46ef-b358-f5b85cffef02/50a3dcd6-f18c-4396-bd41-b6dbd86c0424/NETseq/0a094f44-e8c4-4ffd-9c73-99a8566ca3f9/call-BamToBedgraph/wt-2.dedup.log                                            \n",
       "4 gs://fc-353b14e5-19da-46ef-b358-f5b85cffef02/50a3dcd6-f18c-4396-bd41-b6dbd86c0424/NETseq/fb873ea4-9fe8-492d-b5a9-4b3d898052e5/call-StarAlign/wt-3.Log.out      , gs://fc-353b14e5-19da-46ef-b358-f5b85cffef02/50a3dcd6-f18c-4396-bd41-b6dbd86c0424/NETseq/fb873ea4-9fe8-492d-b5a9-4b3d898052e5/call-StarAlign/wt-3.Log.std.out  , gs://fc-353b14e5-19da-46ef-b358-f5b85cffef02/50a3dcd6-f18c-4396-bd41-b6dbd86c0424/NETseq/fb873ea4-9fe8-492d-b5a9-4b3d898052e5/call-StarAlign/wt-3.Log.final.out, gs://fc-353b14e5-19da-46ef-b358-f5b85cffef02/50a3dcd6-f18c-4396-bd41-b6dbd86c0424/NETseq/fb873ea4-9fe8-492d-b5a9-4b3d898052e5/call-BamToBedgraph/wt-3.dedup.log                                            \n",
       "5 gs://fc-353b14e5-19da-46ef-b358-f5b85cffef02/50a3dcd6-f18c-4396-bd41-b6dbd86c0424/NETseq/dbd1769c-5bbc-4e1e-8a44-ec9b89fc7c2b/call-StarAlign/wt-4.Log.out      , gs://fc-353b14e5-19da-46ef-b358-f5b85cffef02/50a3dcd6-f18c-4396-bd41-b6dbd86c0424/NETseq/dbd1769c-5bbc-4e1e-8a44-ec9b89fc7c2b/call-StarAlign/wt-4.Log.std.out  , gs://fc-353b14e5-19da-46ef-b358-f5b85cffef02/50a3dcd6-f18c-4396-bd41-b6dbd86c0424/NETseq/dbd1769c-5bbc-4e1e-8a44-ec9b89fc7c2b/call-StarAlign/wt-4.Log.final.out, gs://fc-353b14e5-19da-46ef-b358-f5b85cffef02/50a3dcd6-f18c-4396-bd41-b6dbd86c0424/NETseq/dbd1769c-5bbc-4e1e-8a44-ec9b89fc7c2b/call-BamToBedgraph/wt-4.dedup.log                                            \n",
       "6 gs://fc-353b14e5-19da-46ef-b358-f5b85cffef02/50a3dcd6-f18c-4396-bd41-b6dbd86c0424/NETseq/cf0ff745-3804-42ae-9f8a-adaa7e6f63b9/call-StarAlign/xwt-1.Log.out      , gs://fc-353b14e5-19da-46ef-b358-f5b85cffef02/50a3dcd6-f18c-4396-bd41-b6dbd86c0424/NETseq/cf0ff745-3804-42ae-9f8a-adaa7e6f63b9/call-StarAlign/xwt-1.Log.std.out  , gs://fc-353b14e5-19da-46ef-b358-f5b85cffef02/50a3dcd6-f18c-4396-bd41-b6dbd86c0424/NETseq/cf0ff745-3804-42ae-9f8a-adaa7e6f63b9/call-StarAlign/xwt-1.Log.final.out, gs://fc-353b14e5-19da-46ef-b358-f5b85cffef02/50a3dcd6-f18c-4396-bd41-b6dbd86c0424/NETseq/cf0ff745-3804-42ae-9f8a-adaa7e6f63b9/call-BamToBedgraph/xwt-1.dedup.log                                        \n",
       "7 gs://fc-353b14e5-19da-46ef-b358-f5b85cffef02/3651dc42-064c-4b38-b429-8bd9283eb785/NETseq/26e6d53c-a686-4220-99c7-5c051cf77255/call-StarAlign/cacheCopy/zwt-1.Log.out      , gs://fc-353b14e5-19da-46ef-b358-f5b85cffef02/3651dc42-064c-4b38-b429-8bd9283eb785/NETseq/26e6d53c-a686-4220-99c7-5c051cf77255/call-StarAlign/cacheCopy/zwt-1.Log.std.out  , gs://fc-353b14e5-19da-46ef-b358-f5b85cffef02/3651dc42-064c-4b38-b429-8bd9283eb785/NETseq/26e6d53c-a686-4220-99c7-5c051cf77255/call-StarAlign/cacheCopy/zwt-1.Log.final.out, gs://fc-353b14e5-19da-46ef-b358-f5b85cffef02/3651dc42-064c-4b38-b429-8bd9283eb785/NETseq/26e6d53c-a686-4220-99c7-5c051cf77255/call-BamToBedgraph/zwt-1.dedup.log          "
      ]
     },
     "metadata": {},
     "output_type": "display_data"
    }
   ],
   "source": [
    "foo <- avtable(\"sample\")\n",
    "foo"
   ]
  },
  {
   "cell_type": "code",
   "execution_count": 32,
   "metadata": {},
   "outputs": [
    {
     "data": {
      "text/html": [
       "'broad-cpa-pipeline/broad-cpa-pipeline'"
      ],
      "text/latex": [
       "'broad-cpa-pipeline/broad-cpa-pipeline'"
      ],
      "text/markdown": [
       "'broad-cpa-pipeline/broad-cpa-pipeline'"
      ],
      "text/plain": [
       "[1] \"broad-cpa-pipeline/broad-cpa-pipeline\""
      ]
     },
     "metadata": {},
     "output_type": "display_data"
    }
   ],
   "source": [
    "avworkspace()"
   ]
  }
 ],
 "metadata": {
  "kernelspec": {
   "display_name": "R",
   "language": "R",
   "name": "ir"
  },
  "language_info": {
   "codemirror_mode": "r",
   "file_extension": ".r",
   "mimetype": "text/x-r-source",
   "name": "R",
   "pygments_lexer": "r",
   "version": "4.1.1"
  },
  "toc": {
   "base_numbering": 1,
   "nav_menu": {},
   "number_sections": true,
   "sideBar": true,
   "skip_h1_title": false,
   "title_cell": "Table of Contents",
   "title_sidebar": "Contents",
   "toc_cell": false,
   "toc_position": {},
   "toc_section_display": true,
   "toc_window_display": false
  }
 },
 "nbformat": 4,
 "nbformat_minor": 2
}
