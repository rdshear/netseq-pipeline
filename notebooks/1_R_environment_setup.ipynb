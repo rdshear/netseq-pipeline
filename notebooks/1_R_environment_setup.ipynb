{
 "cells": [
  {
   "cell_type": "markdown",
   "metadata": {},
   "source": [
    "# Install R packages\n",
    "\n"
   ]
  },
  {
   "cell_type": "markdown",
   "metadata": {},
   "source": [
    "## Generally useful R packages"
   ]
  },
  {
   "cell_type": "code",
   "execution_count": 1,
   "metadata": {
    "code_folding": []
   },
   "outputs": [],
   "source": [
    "# This code defines a time-saving command, that checks to see if the needed libraries are already installed and\n",
    "# installs them only if they're missing. The `install_if_missing,` command will be used below.\n",
    "\n",
    "install_if_missing <- function(packages) {\n",
    "    if (length(setdiff(packages, rownames(installed.packages()))) > 0) {\n",
    "        install.packages(setdiff(packages, rownames(installed.packages())), repos = \"https://cloud.r-project.org/\")\n",
    "    }\n",
    "}"
   ]
  },
  {
   "cell_type": "code",
   "execution_count": 2,
   "metadata": {
    "code_folding": [],
    "scrolled": false
   },
   "outputs": [],
   "source": [
    "# Use the command defined above to install the R packages (in parentheses) below \n",
    "install_if_missing(c('devtools', 'tidyverse','viridis', 'ggthemes', 'pryr', 'skimr',\n",
    "                     'testthat', 'reticulate', 'data.table', 'RCurl', 'xml2'))\n",
    "\n",
    "# There may be a warning in pink that says 'lib' is unspecified, which you can ignore. "
   ]
  },
  {
   "cell_type": "markdown",
   "metadata": {},
   "source": [
    "## Leonardo R package"
   ]
  },
  {
   "cell_type": "markdown",
   "metadata": {},
   "source": [
    "Leonardo is a service that provides access to interactive tools like Jupyter, RStudio, and Hail running in the cloud inside the Terra security boundary."
   ]
  },
  {
   "cell_type": "code",
   "execution_count": 1,
   "metadata": {
    "code_folding": []
   },
   "outputs": [
    {
     "name": "stderr",
     "output_type": "stream",
     "text": [
      "Skipping install of 'Ronaldo' from a github remote, the SHA1 (426459ff) has not changed since last install.\n",
      "  Use `force = TRUE` to force installation\n",
      "\n"
     ]
    }
   ],
   "source": [
    "# Install the package of libraries that Leonardo needs, which are hosted on github \n",
    "devtools::install_github('DataBiosphere/ronaldo')"
   ]
  },
  {
   "cell_type": "markdown",
   "metadata": {},
   "source": [
    "# Confirm that the R packages loaded properly"
   ]
  },
  {
   "cell_type": "code",
   "execution_count": 7,
   "metadata": {
    "code_folding": [
     0
    ]
   },
   "outputs": [
    {
     "name": "stderr",
     "output_type": "stream",
     "text": [
      "Loading required package: viridisLite\n",
      "\n",
      "\n",
      "Attaching package: ‘scales’\n",
      "\n",
      "\n",
      "The following object is masked from ‘package:viridis’:\n",
      "\n",
      "    viridis_pal\n",
      "\n",
      "\n",
      "\n",
      "Attaching package: ‘testthat’\n",
      "\n",
      "\n",
      "The following object is masked from ‘package:devtools’:\n",
      "\n",
      "    test_file\n",
      "\n",
      "\n",
      "\n",
      "Attaching package: ‘skimr’\n",
      "\n",
      "\n",
      "The following object is masked from ‘package:testthat’:\n",
      "\n",
      "    matches\n",
      "\n",
      "\n",
      "── \u001b[1mAttaching packages\u001b[22m ─────────────────────────────────────── tidyverse 1.3.1 ──\n",
      "\n",
      "\u001b[32m✔\u001b[39m \u001b[34mggplot2\u001b[39m 3.3.5     \u001b[32m✔\u001b[39m \u001b[34mpurrr  \u001b[39m 0.3.4\n",
      "\u001b[32m✔\u001b[39m \u001b[34mtibble \u001b[39m 3.1.5     \u001b[32m✔\u001b[39m \u001b[34mdplyr  \u001b[39m 1.0.7\n",
      "\u001b[32m✔\u001b[39m \u001b[34mtidyr  \u001b[39m 1.1.4     \u001b[32m✔\u001b[39m \u001b[34mstringr\u001b[39m 1.4.0\n",
      "\u001b[32m✔\u001b[39m \u001b[34mreadr  \u001b[39m 2.0.2     \u001b[32m✔\u001b[39m \u001b[34mforcats\u001b[39m 0.5.1\n",
      "\n",
      "── \u001b[1mConflicts\u001b[22m ────────────────────────────────────────── tidyverse_conflicts() ──\n",
      "\u001b[31m✖\u001b[39m \u001b[34mreadr\u001b[39m::\u001b[32mcol_factor()\u001b[39m    masks \u001b[34mscales\u001b[39m::col_factor()\n",
      "\u001b[31m✖\u001b[39m \u001b[34mpurrr\u001b[39m::\u001b[32mcompose()\u001b[39m       masks \u001b[34mpryr\u001b[39m::compose()\n",
      "\u001b[31m✖\u001b[39m \u001b[34mpurrr\u001b[39m::\u001b[32mdiscard()\u001b[39m       masks \u001b[34mscales\u001b[39m::discard()\n",
      "\u001b[31m✖\u001b[39m \u001b[34mreadr\u001b[39m::\u001b[32medition_get()\u001b[39m   masks \u001b[34mtestthat\u001b[39m::edition_get()\n",
      "\u001b[31m✖\u001b[39m \u001b[34mdplyr\u001b[39m::\u001b[32mfilter()\u001b[39m        masks \u001b[34mstats\u001b[39m::filter()\n",
      "\u001b[31m✖\u001b[39m \u001b[34mtibble\u001b[39m::\u001b[32mhas_name()\u001b[39m     masks \u001b[34massertthat\u001b[39m::has_name()\n",
      "\u001b[31m✖\u001b[39m \u001b[34mpurrr\u001b[39m::\u001b[32mis_null()\u001b[39m       masks \u001b[34mtestthat\u001b[39m::is_null()\n",
      "\u001b[31m✖\u001b[39m \u001b[34mdplyr\u001b[39m::\u001b[32mlag()\u001b[39m           masks \u001b[34mstats\u001b[39m::lag()\n",
      "\u001b[31m✖\u001b[39m \u001b[34mreadr\u001b[39m::\u001b[32mlocal_edition()\u001b[39m masks \u001b[34mtestthat\u001b[39m::local_edition()\n",
      "\u001b[31m✖\u001b[39m \u001b[34mdplyr\u001b[39m::\u001b[32mmatches()\u001b[39m       masks \u001b[34mtidyr\u001b[39m::matches(), \u001b[34mskimr\u001b[39m::matches(), \u001b[34mtestthat\u001b[39m::matches()\n",
      "\u001b[31m✖\u001b[39m \u001b[34mpurrr\u001b[39m::\u001b[32mpartial()\u001b[39m       masks \u001b[34mpryr\u001b[39m::partial()\n",
      "\n"
     ]
    }
   ],
   "source": [
    "# Warnings that objects are masked between R packages are to be expected and you can ignore them \n",
    "library(viridis)    # A nice color scheme for plots.\n",
    "library(ggthemes)   # Common themes to change the look and feel of plots.\n",
    "library(scales)     # Graphical scales map data to aesthetics in plots.\n",
    "library(testthat)   # Testing functions.\n",
    "library(assertthat) # Assertion functions.\n",
    "library(pryr)       # Memory usage functions.\n",
    "library(skimr)      # Summary statistics for dataframes.\n",
    "library(bigrquery)  # BigQuery R client.\n",
    "library(tidyverse)  # Data wrangling packages.\n",
    "library(reticulate) # Python R client.\n",
    "library(Ronaldo)    # Leonardo R package."
   ]
  },
  {
   "cell_type": "markdown",
   "metadata": {},
   "source": [
    "This notebook installs the most recent versions of R packages from [CRAN](https://cran.r-project.org/) and Python packages from [pip](https://pypi.org/project/pip/) on to your VM. Additionally, some packages come from [GitHub](https://github.com/) or [Cloud Source Repositories](https://cloud.google.com/source-repositories/).\n",
    "\n",
    "1. If you encounter any errors, first try restarting the kernel and running all: `Kernel -> Restart & Run All`.\n",
    "1. If an R package still fails to install:\n",
    " - Open a terminal by clicking on the terminal icon next to 'Notebook Runtime' in the upper top right corner of the window\n",
    " - Type `R` to start R in the terminal\n",
    " - Type `install.packages(\"qwraps2\")` to get a more detailed error message. Replace `qwraps2` with the name of which ever package is failing to install.\n",
    "1. If that error message tells you what you need to do to resolve the issue, great! If not, copy and paste the error message into Google Search for more help. "
   ]
  },
  {
   "cell_type": "markdown",
   "metadata": {
    "code_folding": []
   },
   "source": [
    "# Install the SRA Toolkit\n",
    "\n",
    "Download and install sratoolkit.\n",
    "\n",
    "see https://trace.ncbi.nlm.nih.gov/Traces/sra/sra.cgi?view=toolkit_doc for documentation.\n",
    "\n",
    "Note: we are not adding the path, so invoke with full pathname:\n",
    "e.g:  srapath SRR000001 --> ~/sratoolkit/bin/srapath SRR000001"
   ]
  },
  {
   "cell_type": "code",
   "execution_count": 29,
   "metadata": {},
   "outputs": [],
   "source": [
    "tk_download <- \"https://ftp-trace.ncbi.nlm.nih.gov/sra/sdk/2.11.2/sratoolkit.2.11.2-ubuntu64.tar.gz\"\n",
    "fname <- basename(tk_download)\n",
    "dname <- tools::file_path_sans_ext(tools::file_path_sans_ext(fname))\n",
    "if (!file.exists(dname)) {\n",
    "    tool_path <- normalizePath(file.path(\".\", \"sratoolkit\"))\n",
    "    setwd(\"~\")\n",
    "    system2(\"curl\", c(\"-LO\", tk_download))\n",
    "    system2(\"tar\", c(\"-xf\", fname))\n",
    "    system2(\"mv\", c(dname, tool_path))\n",
    "    system2(\"rm\", fname)\n",
    "    path_add <- file.path(\"PATH=$PATH:\", tool_path, \"bin\")\n",
    "    system2(\"export\", path_add)\n",
    "    system2(\"echo\", c(path_add, \">>\", \"~/.bashrc\"))\n",
    "}"
   ]
  },
  {
   "cell_type": "code",
   "execution_count": 35,
   "metadata": {},
   "outputs": [],
   "source": [
    "# TODO: Only once\n",
    "system2(\"sh\" ,c(\"-c\", \"$(curl -fsSL ftp://ftp.ncbi.nlm.nih.gov/entrez/entrezdirect/install-edirect.sh)\"))\n"
   ]
  },
  {
   "cell_type": "markdown",
   "metadata": {},
   "source": [
    "# Provenance"
   ]
  },
  {
   "cell_type": "markdown",
   "metadata": {},
   "source": [
    "Provenance is a record of exactly the environment used to run the notebook. It's useful for collaborating, and also helpful when you return to a notebook months after your initial analysis. It's also Best Practices for reproducible research."
   ]
  },
  {
   "cell_type": "code",
   "execution_count": 8,
   "metadata": {},
   "outputs": [
    {
     "data": {
      "text/plain": [
       "─ Session info ───────────────────────────────────────────────────────────────\n",
       " setting  value                       \n",
       " version  R version 4.1.1 (2021-08-10)\n",
       " os       macOS Big Sur 10.16         \n",
       " system   x86_64, darwin17.0          \n",
       " ui       X11                         \n",
       " language (EN)                        \n",
       " collate  en_US.UTF-8                 \n",
       " ctype    en_US.UTF-8                 \n",
       " tz       America/New_York            \n",
       " date     2021-10-13                  \n",
       "\n",
       "─ Packages ───────────────────────────────────────────────────────────────────\n",
       " package     * version date       lib source                                \n",
       " assertthat  * 0.2.1   2019-03-21 [1] CRAN (R 4.1.0)                        \n",
       " backports     1.2.1   2020-12-09 [1] CRAN (R 4.1.0)                        \n",
       " base64enc     0.1-3   2015-07-28 [1] CRAN (R 4.1.0)                        \n",
       " bigrquery   * 1.4.0   2021-08-05 [1] CRAN (R 4.1.0)                        \n",
       " bit           4.0.4   2020-08-04 [1] CRAN (R 4.1.0)                        \n",
       " bit64         4.0.5   2020-08-30 [1] CRAN (R 4.1.0)                        \n",
       " broom         0.7.9   2021-07-27 [1] CRAN (R 4.1.0)                        \n",
       " cachem        1.0.6   2021-08-19 [1] CRAN (R 4.1.0)                        \n",
       " callr         3.7.0   2021-04-20 [1] CRAN (R 4.1.0)                        \n",
       " cellranger    1.1.0   2016-07-27 [1] CRAN (R 4.1.0)                        \n",
       " cli           3.0.1   2021-07-17 [1] CRAN (R 4.1.0)                        \n",
       " codetools     0.2-18  2020-11-04 [1] CRAN (R 4.1.1)                        \n",
       " colorspace    2.0-2   2021-06-24 [1] CRAN (R 4.1.0)                        \n",
       " crayon        1.4.1   2021-02-08 [1] CRAN (R 4.1.0)                        \n",
       " curl          4.3.2   2021-06-23 [1] CRAN (R 4.1.0)                        \n",
       " DBI           1.1.1   2021-01-15 [1] CRAN (R 4.1.0)                        \n",
       " dbplyr        2.1.1   2021-04-06 [1] CRAN (R 4.1.0)                        \n",
       " desc          1.4.0   2021-09-28 [1] CRAN (R 4.1.0)                        \n",
       " devtools    * 2.4.2   2021-06-07 [1] CRAN (R 4.1.0)                        \n",
       " digest        0.6.28  2021-09-23 [1] CRAN (R 4.1.0)                        \n",
       " dplyr       * 1.0.7   2021-06-18 [1] CRAN (R 4.1.0)                        \n",
       " ellipsis      0.3.2   2021-04-29 [1] CRAN (R 4.1.0)                        \n",
       " evaluate      0.14    2019-05-28 [1] CRAN (R 4.1.0)                        \n",
       " fansi         0.5.0   2021-05-25 [1] CRAN (R 4.1.0)                        \n",
       " fastmap       1.1.0   2021-01-25 [1] CRAN (R 4.1.0)                        \n",
       " forcats     * 0.5.1   2021-01-27 [1] CRAN (R 4.1.0)                        \n",
       " fs            1.5.0   2020-07-31 [1] CRAN (R 4.1.0)                        \n",
       " gargle        1.2.0   2021-07-02 [1] CRAN (R 4.1.0)                        \n",
       " generics      0.1.0   2020-10-31 [1] CRAN (R 4.1.0)                        \n",
       " ggplot2     * 3.3.5   2021-06-25 [1] CRAN (R 4.1.0)                        \n",
       " ggthemes    * 4.2.4   2021-01-20 [1] CRAN (R 4.1.0)                        \n",
       " glue          1.4.2   2020-08-27 [1] CRAN (R 4.1.0)                        \n",
       " gridExtra     2.3     2017-09-09 [1] CRAN (R 4.1.0)                        \n",
       " gtable        0.3.0   2019-03-25 [1] CRAN (R 4.1.0)                        \n",
       " haven         2.4.3   2021-08-04 [1] CRAN (R 4.1.0)                        \n",
       " hms           1.1.1   2021-09-26 [1] CRAN (R 4.1.0)                        \n",
       " htmltools     0.5.2   2021-08-25 [1] CRAN (R 4.1.0)                        \n",
       " httr          1.4.2   2020-07-20 [1] CRAN (R 4.1.0)                        \n",
       " IRdisplay     1.0     2021-01-20 [1] CRAN (R 4.1.0)                        \n",
       " IRkernel      1.2     2021-05-11 [1] CRAN (R 4.1.0)                        \n",
       " jsonlite      1.7.2   2020-12-09 [1] CRAN (R 4.1.0)                        \n",
       " knitr         1.36    2021-09-29 [1] CRAN (R 4.1.0)                        \n",
       " lattice       0.20-45 2021-09-22 [1] CRAN (R 4.1.0)                        \n",
       " lifecycle     1.0.1   2021-09-24 [1] CRAN (R 4.1.0)                        \n",
       " lubridate     1.7.10  2021-02-26 [1] CRAN (R 4.1.0)                        \n",
       " magrittr      2.0.1   2020-11-17 [1] CRAN (R 4.1.0)                        \n",
       " Matrix        1.3-4   2021-06-01 [1] CRAN (R 4.1.1)                        \n",
       " memoise       2.0.0   2021-01-26 [1] CRAN (R 4.1.0)                        \n",
       " modelr        0.1.8   2020-05-19 [1] CRAN (R 4.1.0)                        \n",
       " munsell       0.5.0   2018-06-12 [1] CRAN (R 4.1.0)                        \n",
       " pbdZMQ        0.3-5   2021-02-10 [1] CRAN (R 4.1.0)                        \n",
       " pillar        1.6.3   2021-09-26 [1] CRAN (R 4.1.0)                        \n",
       " pkgbuild      1.2.0   2020-12-15 [1] CRAN (R 4.1.0)                        \n",
       " pkgconfig     2.0.3   2019-09-22 [1] CRAN (R 4.1.0)                        \n",
       " pkgload       1.2.2   2021-09-11 [1] CRAN (R 4.1.0)                        \n",
       " png           0.1-7   2013-12-03 [1] CRAN (R 4.1.0)                        \n",
       " prettyunits   1.1.1   2020-01-24 [1] CRAN (R 4.1.0)                        \n",
       " processx      3.5.2   2021-04-30 [1] CRAN (R 4.1.0)                        \n",
       " pryr        * 0.1.5   2021-07-26 [1] CRAN (R 4.1.0)                        \n",
       " ps            1.6.0   2021-02-28 [1] CRAN (R 4.1.0)                        \n",
       " purrr       * 0.3.4   2020-04-17 [1] CRAN (R 4.1.0)                        \n",
       " R6            2.5.1   2021-08-19 [1] CRAN (R 4.1.0)                        \n",
       " Rcpp          1.0.7   2021-07-07 [1] CRAN (R 4.1.0)                        \n",
       " readr       * 2.0.2   2021-09-27 [1] CRAN (R 4.1.0)                        \n",
       " readxl        1.3.1   2019-03-13 [1] CRAN (R 4.1.0)                        \n",
       " remotes       2.4.1   2021-09-29 [1] CRAN (R 4.1.0)                        \n",
       " repr          1.1.3   2021-01-21 [1] CRAN (R 4.1.0)                        \n",
       " reprex        2.0.1   2021-08-05 [1] CRAN (R 4.1.0)                        \n",
       " reticulate  * 1.22    2021-09-17 [1] CRAN (R 4.1.0)                        \n",
       " rlang         0.4.11  2021-04-30 [1] CRAN (R 4.1.0)                        \n",
       " Ronaldo     * 0.1.0   2021-10-13 [1] Github (DataBiosphere/ronaldo@426459f)\n",
       " rprojroot     2.0.2   2020-11-15 [1] CRAN (R 4.1.0)                        \n",
       " rstudioapi    0.13    2020-11-12 [1] CRAN (R 4.1.0)                        \n",
       " rvest         1.0.1   2021-07-26 [1] CRAN (R 4.1.0)                        \n",
       " scales      * 1.1.1   2020-05-11 [1] CRAN (R 4.1.0)                        \n",
       " sessioninfo   1.1.1   2018-11-05 [1] CRAN (R 4.1.0)                        \n",
       " skimr       * 2.1.3   2021-03-07 [1] CRAN (R 4.1.0)                        \n",
       " stringi       1.7.5   2021-10-04 [1] CRAN (R 4.1.1)                        \n",
       " stringr     * 1.4.0   2019-02-10 [1] CRAN (R 4.1.0)                        \n",
       " testthat    * 3.1.0   2021-10-04 [1] CRAN (R 4.1.0)                        \n",
       " tibble      * 3.1.5   2021-09-30 [1] CRAN (R 4.1.0)                        \n",
       " tidyr       * 1.1.4   2021-09-27 [1] CRAN (R 4.1.0)                        \n",
       " tidyselect    1.1.1   2021-04-30 [1] CRAN (R 4.1.0)                        \n",
       " tidyverse   * 1.3.1   2021-04-15 [1] CRAN (R 4.1.0)                        \n",
       " tzdb          0.1.2   2021-07-20 [1] CRAN (R 4.1.0)                        \n",
       " usethis     * 2.0.1   2021-02-10 [1] CRAN (R 4.1.0)                        \n",
       " utf8          1.2.2   2021-07-24 [1] CRAN (R 4.1.0)                        \n",
       " uuid          0.1-4   2020-02-26 [1] CRAN (R 4.1.0)                        \n",
       " vctrs         0.3.8   2021-04-29 [1] CRAN (R 4.1.0)                        \n",
       " viridis     * 0.6.1   2021-05-11 [1] CRAN (R 4.1.0)                        \n",
       " viridisLite * 0.4.0   2021-04-13 [1] CRAN (R 4.1.0)                        \n",
       " withr         2.4.2   2021-04-18 [1] CRAN (R 4.1.0)                        \n",
       " xfun          0.26    2021-09-14 [1] CRAN (R 4.1.0)                        \n",
       " xml2          1.3.2   2020-04-23 [1] CRAN (R 4.1.0)                        \n",
       "\n",
       "[1] /Library/Frameworks/R.framework/Versions/4.1/Resources/library"
      ]
     },
     "metadata": {},
     "output_type": "display_data"
    }
   ],
   "source": [
    "# Output all session information\n",
    "devtools::session_info()"
   ]
  },
  {
   "cell_type": "markdown",
   "metadata": {},
   "source": [
    "Copyright 2019 The Broad Institute, Inc., Verily Life Sciences, LLC All rights reserved.\n",
    "\n",
    "This software may be modified and distributed under the terms of the BSD license. See the LICENSE file for details."
   ]
  }
 ],
 "metadata": {
  "interpreter": {
   "hash": "cb5c413cc11aefd203a2e454bab669bfe387af2bfdc2b565dbc04d3f18c069d6"
  },
  "kernelspec": {
   "display_name": "R",
   "language": "R",
   "name": "ir"
  },
  "language_info": {
   "codemirror_mode": "r",
   "file_extension": ".r",
   "mimetype": "text/x-r-source",
   "name": "R",
   "pygments_lexer": "r",
   "version": "4.1.1"
  },
  "toc": {
   "base_numbering": 1,
   "nav_menu": {},
   "number_sections": true,
   "sideBar": true,
   "skip_h1_title": false,
   "title_cell": "Table of Contents",
   "title_sidebar": "Contents",
   "toc_cell": false,
   "toc_position": {
    "height": "calc(100% - 180px)",
    "left": "10px",
    "top": "150px",
    "width": "290px"
   },
   "toc_section_display": true,
   "toc_window_display": true
  }
 },
 "nbformat": 4,
 "nbformat_minor": 2
}
