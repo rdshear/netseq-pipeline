{
 "cells": [
  {
   "cell_type": "code",
   "execution_count": 2,
   "metadata": {
    "scrolled": true
   },
   "outputs": [
    {
     "name": "stderr",
     "output_type": "stream",
     "text": [
      "Loading required package: stats4\n",
      "\n",
      "Loading required package: BiocGenerics\n",
      "\n",
      "\n",
      "Attaching package: ‘BiocGenerics’\n",
      "\n",
      "\n",
      "The following objects are masked from ‘package:stats’:\n",
      "\n",
      "    IQR, mad, sd, var, xtabs\n",
      "\n",
      "\n",
      "The following objects are masked from ‘package:base’:\n",
      "\n",
      "    anyDuplicated, append, as.data.frame, basename, cbind, colnames,\n",
      "    dirname, do.call, duplicated, eval, evalq, Filter, Find, get, grep,\n",
      "    grepl, intersect, is.unsorted, lapply, Map, mapply, match, mget,\n",
      "    order, paste, pmax, pmax.int, pmin, pmin.int, Position, rank,\n",
      "    rbind, Reduce, rownames, sapply, setdiff, sort, table, tapply,\n",
      "    union, unique, unsplit, which.max, which.min\n",
      "\n",
      "\n",
      "Loading required package: S4Vectors\n",
      "\n",
      "\n",
      "Attaching package: ‘S4Vectors’\n",
      "\n",
      "\n",
      "The following objects are masked from ‘package:base’:\n",
      "\n",
      "    expand.grid, I, unname\n",
      "\n",
      "\n",
      "Loading required package: IRanges\n",
      "\n",
      "Loading required package: GenomeInfoDb\n",
      "\n",
      "Loading required package: SummarizedExperiment\n",
      "\n",
      "Loading required package: MatrixGenerics\n",
      "\n",
      "Loading required package: matrixStats\n",
      "\n",
      "\n",
      "Attaching package: ‘MatrixGenerics’\n",
      "\n",
      "\n",
      "The following objects are masked from ‘package:matrixStats’:\n",
      "\n",
      "    colAlls, colAnyNAs, colAnys, colAvgsPerRowSet, colCollapse,\n",
      "    colCounts, colCummaxs, colCummins, colCumprods, colCumsums,\n",
      "    colDiffs, colIQRDiffs, colIQRs, colLogSumExps, colMadDiffs,\n",
      "    colMads, colMaxs, colMeans2, colMedians, colMins, colOrderStats,\n",
      "    colProds, colQuantiles, colRanges, colRanks, colSdDiffs, colSds,\n",
      "    colSums2, colTabulates, colVarDiffs, colVars, colWeightedMads,\n",
      "    colWeightedMeans, colWeightedMedians, colWeightedSds,\n",
      "    colWeightedVars, rowAlls, rowAnyNAs, rowAnys, rowAvgsPerColSet,\n",
      "    rowCollapse, rowCounts, rowCummaxs, rowCummins, rowCumprods,\n",
      "    rowCumsums, rowDiffs, rowIQRDiffs, rowIQRs, rowLogSumExps,\n",
      "    rowMadDiffs, rowMads, rowMaxs, rowMeans2, rowMedians, rowMins,\n",
      "    rowOrderStats, rowProds, rowQuantiles, rowRanges, rowRanks,\n",
      "    rowSdDiffs, rowSds, rowSums2, rowTabulates, rowVarDiffs, rowVars,\n",
      "    rowWeightedMads, rowWeightedMeans, rowWeightedMedians,\n",
      "    rowWeightedSds, rowWeightedVars\n",
      "\n",
      "\n",
      "Loading required package: Biobase\n",
      "\n",
      "Welcome to Bioconductor\n",
      "\n",
      "    Vignettes contain introductory material; view with\n",
      "    'browseVignettes()'. To cite Bioconductor, see\n",
      "    'citation(\"Biobase\")', and for packages 'citation(\"pkgname\")'.\n",
      "\n",
      "\n",
      "\n",
      "Attaching package: ‘Biobase’\n",
      "\n",
      "\n",
      "The following object is masked from ‘package:MatrixGenerics’:\n",
      "\n",
      "    rowMedians\n",
      "\n",
      "\n",
      "The following objects are masked from ‘package:matrixStats’:\n",
      "\n",
      "    anyMissing, rowMedians\n",
      "\n",
      "\n",
      "Warning message:\n",
      "“replacing previous import ‘GenomicAlignments::last’ by ‘dplyr::last’ when loading ‘GPosExperiment’”\n",
      "Warning message:\n",
      "“replacing previous import ‘GenomicRanges::union’ by ‘dplyr::union’ when loading ‘GPosExperiment’”\n",
      "Warning message:\n",
      "“replacing previous import ‘GenomicRanges::intersect’ by ‘dplyr::intersect’ when loading ‘GPosExperiment’”\n",
      "Warning message:\n",
      "“replacing previous import ‘GenomicRanges::setdiff’ by ‘dplyr::setdiff’ when loading ‘GPosExperiment’”\n",
      "Warning message:\n",
      "“replacing previous import ‘GenomicAlignments::first’ by ‘dplyr::first’ when loading ‘GPosExperiment’”\n",
      "Warning message:\n",
      "“replacing previous import ‘BiocGenerics::combine’ by ‘dplyr::combine’ when loading ‘GPosExperiment’”\n",
      "Warning message:\n",
      "“replacing previous import ‘magrittr::set_names’ by ‘purrr::set_names’ when loading ‘GPosExperiment’”\n",
      "Warning message:\n",
      "“replacing previous import ‘GenomicRanges::reduce’ by ‘purrr::reduce’ when loading ‘GPosExperiment’”\n",
      "Loading required package: dplyr\n",
      "\n",
      "\n",
      "Attaching package: ‘dplyr’\n",
      "\n",
      "\n",
      "The following object is masked from ‘package:Biobase’:\n",
      "\n",
      "    combine\n",
      "\n",
      "\n",
      "The following object is masked from ‘package:matrixStats’:\n",
      "\n",
      "    count\n",
      "\n",
      "\n",
      "The following objects are masked from ‘package:GenomicRanges’:\n",
      "\n",
      "    intersect, setdiff, union\n",
      "\n",
      "\n",
      "The following object is masked from ‘package:GenomeInfoDb’:\n",
      "\n",
      "    intersect\n",
      "\n",
      "\n",
      "The following objects are masked from ‘package:IRanges’:\n",
      "\n",
      "    collapse, desc, intersect, setdiff, slice, union\n",
      "\n",
      "\n",
      "The following objects are masked from ‘package:S4Vectors’:\n",
      "\n",
      "    first, intersect, rename, setdiff, setequal, union\n",
      "\n",
      "\n",
      "The following objects are masked from ‘package:BiocGenerics’:\n",
      "\n",
      "    combine, intersect, setdiff, union\n",
      "\n",
      "\n",
      "The following objects are masked from ‘package:stats’:\n",
      "\n",
      "    filter, lag\n",
      "\n",
      "\n",
      "The following objects are masked from ‘package:base’:\n",
      "\n",
      "    intersect, setdiff, setequal, union\n",
      "\n",
      "\n",
      "Loading required package: MASS\n",
      "\n",
      "\n",
      "Attaching package: ‘MASS’\n",
      "\n",
      "\n",
      "The following object is masked from ‘package:dplyr’:\n",
      "\n",
      "    select\n",
      "\n",
      "\n",
      "Loading required package: survival\n",
      "\n",
      "Warning message in system(\"timedatectl\", intern = TRUE):\n",
      "“running command 'timedatectl' had status 1”\n",
      "── \u001b[1mAttaching packages\u001b[22m ─────────────────────────────────────── tidyverse 1.3.1 ──\n",
      "\n",
      "\u001b[32m✔\u001b[39m \u001b[34mggplot2\u001b[39m 3.3.5     \u001b[32m✔\u001b[39m \u001b[34mpurrr  \u001b[39m 0.3.4\n",
      "\u001b[32m✔\u001b[39m \u001b[34mtibble \u001b[39m 3.1.6     \u001b[32m✔\u001b[39m \u001b[34mstringr\u001b[39m 1.4.0\n",
      "\u001b[32m✔\u001b[39m \u001b[34mtidyr  \u001b[39m 1.1.4     \u001b[32m✔\u001b[39m \u001b[34mforcats\u001b[39m 0.5.1\n",
      "\u001b[32m✔\u001b[39m \u001b[34mreadr  \u001b[39m 2.1.1     \n",
      "\n",
      "── \u001b[1mConflicts\u001b[22m ────────────────────────────────────────── tidyverse_conflicts() ──\n",
      "\u001b[31m✖\u001b[39m \u001b[34mdplyr\u001b[39m::\u001b[32mcollapse()\u001b[39m   masks \u001b[34mIRanges\u001b[39m::collapse()\n",
      "\u001b[31m✖\u001b[39m \u001b[34mdplyr\u001b[39m::\u001b[32mcombine()\u001b[39m    masks \u001b[34mBiobase\u001b[39m::combine(), \u001b[34mBiocGenerics\u001b[39m::combine()\n",
      "\u001b[31m✖\u001b[39m \u001b[34mdplyr\u001b[39m::\u001b[32mcount()\u001b[39m      masks \u001b[34mmatrixStats\u001b[39m::count()\n",
      "\u001b[31m✖\u001b[39m \u001b[34mdplyr\u001b[39m::\u001b[32mdesc()\u001b[39m       masks \u001b[34mIRanges\u001b[39m::desc()\n",
      "\u001b[31m✖\u001b[39m \u001b[34mtidyr\u001b[39m::\u001b[32mexpand()\u001b[39m     masks \u001b[34mS4Vectors\u001b[39m::expand()\n",
      "\u001b[31m✖\u001b[39m \u001b[34mdplyr\u001b[39m::\u001b[32mfilter()\u001b[39m     masks \u001b[34mstats\u001b[39m::filter()\n",
      "\u001b[31m✖\u001b[39m \u001b[34mdplyr\u001b[39m::\u001b[32mfirst()\u001b[39m      masks \u001b[34mS4Vectors\u001b[39m::first()\n",
      "\u001b[31m✖\u001b[39m \u001b[34mpurrr\u001b[39m::\u001b[32mflatten()\u001b[39m    masks \u001b[34mAnVIL\u001b[39m::flatten()\n",
      "\u001b[31m✖\u001b[39m \u001b[34mdplyr\u001b[39m::\u001b[32mlag()\u001b[39m        masks \u001b[34mstats\u001b[39m::lag()\n",
      "\u001b[31m✖\u001b[39m \u001b[34mggplot2\u001b[39m::\u001b[32mPosition()\u001b[39m masks \u001b[34mBiocGenerics\u001b[39m::Position(), \u001b[34mbase\u001b[39m::Position()\n",
      "\u001b[31m✖\u001b[39m \u001b[34mpurrr\u001b[39m::\u001b[32mreduce()\u001b[39m     masks \u001b[34mGenomicRanges\u001b[39m::reduce(), \u001b[34mIRanges\u001b[39m::reduce()\n",
      "\u001b[31m✖\u001b[39m \u001b[34mdplyr\u001b[39m::\u001b[32mrename()\u001b[39m     masks \u001b[34mS4Vectors\u001b[39m::rename()\n",
      "\u001b[31m✖\u001b[39m \u001b[34mMASS\u001b[39m::\u001b[32mselect()\u001b[39m      masks \u001b[34mdplyr\u001b[39m::select()\n",
      "\u001b[31m✖\u001b[39m \u001b[34mdplyr\u001b[39m::\u001b[32mslice()\u001b[39m      masks \u001b[34mIRanges\u001b[39m::slice()\n",
      "\n"
     ]
    }
   ],
   "source": [
    "library(GenomicRanges)\n",
    "library(rtracklayer)\n",
    "library(GPosExperiment)\n",
    "library(AnVIL)\n",
    "library(fitdistrplus)\n",
    "library(tidyverse)\n",
    "library(kableExtra)"
   ]
  },
  {
   "cell_type": "code",
   "execution_count": 3,
   "metadata": {},
   "outputs": [
    {
     "name": "stdout",
     "output_type": "stream",
     "text": [
      "project=terra-d39d2a2c, workspace=broad-cpa-pipeline/netseq-2022-03-b\n"
     ]
    }
   ],
   "source": [
    "gene_fn <- \"genelist.gff\"\n",
    "\n",
    "gc_project <- gcloud_project()\n",
    "current_workspace <- avworkspace()\n",
    "print(str_glue(\"project={gc_project}, workspace={current_workspace}\"))"
   ]
  },
  {
   "cell_type": "code",
   "execution_count": 4,
   "metadata": {},
   "outputs": [],
   "source": [
    "set.seed(20220311)\n",
    "\n",
    "matrix_apply <- function(x, f, ...) {\n",
    "  result <- sapply(x, f, ...)\n",
    "  dim(result) <- dim(x)\n",
    "  dimnames(result) <- dimnames(x)\n",
    "  result\n",
    "}\n",
    "\n",
    "workdir <- tempdir()\n",
    "gene_path <- file.path(workdir, gene_fn)"
   ]
  },
  {
   "cell_type": "code",
   "execution_count": 5,
   "metadata": {
    "scrolled": true
   },
   "outputs": [
    {
     "data": {
      "text/html": [
       "'/tmp/RtmpycAUEK/genelist.gff'"
      ],
      "text/latex": [
       "'/tmp/RtmpycAUEK/genelist.gff'"
      ],
      "text/markdown": [
       "'/tmp/RtmpycAUEK/genelist.gff'"
      ],
      "text/plain": [
       "[1] \"/tmp/RtmpycAUEK/genelist.gff\""
      ]
     },
     "metadata": {},
     "output_type": "display_data"
    },
    {
     "data": {
      "text/plain": [
       "Copying gs://fc-secure-5818fb38-baa7-40ff-b964-df05e0b8b0bd/genelist.gff...\n",
       "/ [0/1 files][    0.0 B/  3.2 MiB]   0% Done                                    \r",
       "/ [1/1 files][  3.2 MiB/  3.2 MiB] 100% Done                                    \r\n",
       "Operation completed over 1 objects/3.2 MiB.                                      "
      ]
     },
     "metadata": {},
     "output_type": "display_data"
    }
   ],
   "source": [
    "gene_path\n",
    "avfiles_restore(source = gene_fn, destination = workdir)\n",
    "which <- import(gene_path, genome = \"sacCer3\")\n",
    "# TODO report number of genes\n",
    "# TODO extract subset"
   ]
  },
  {
   "cell_type": "code",
   "execution_count": 6,
   "metadata": {},
   "outputs": [
    {
     "data": {
      "text/html": [
       "'pet-110371272146592282187@terra-d39d2a2c.iam.gserviceaccount.com'"
      ],
      "text/latex": [
       "'pet-110371272146592282187@terra-d39d2a2c.iam.gserviceaccount.com'"
      ],
      "text/markdown": [
       "'pet-110371272146592282187@terra-d39d2a2c.iam.gserviceaccount.com'"
      ],
      "text/plain": [
       "[1] \"pet-110371272146592282187@terra-d39d2a2c.iam.gserviceaccount.com\""
      ]
     },
     "metadata": {},
     "output_type": "display_data"
    },
    {
     "data": {
      "text/html": [
       "'terra-d39d2a2c'"
      ],
      "text/latex": [
       "'terra-d39d2a2c'"
      ],
      "text/markdown": [
       "'terra-d39d2a2c'"
      ],
      "text/plain": [
       "[1] \"terra-d39d2a2c\""
      ]
     },
     "metadata": {},
     "output_type": "display_data"
    },
    {
     "data": {
      "text/html": [
       "'gs://fc-secure-5818fb38-baa7-40ff-b964-df05e0b8b0bd'"
      ],
      "text/latex": [
       "'gs://fc-secure-5818fb38-baa7-40ff-b964-df05e0b8b0bd'"
      ],
      "text/markdown": [
       "'gs://fc-secure-5818fb38-baa7-40ff-b964-df05e0b8b0bd'"
      ],
      "text/plain": [
       "[1] \"gs://fc-secure-5818fb38-baa7-40ff-b964-df05e0b8b0bd\""
      ]
     },
     "metadata": {},
     "output_type": "display_data"
    }
   ],
   "source": [
    "gcloud_account()\n",
    "gcloud_project() # billing project information\n",
    "avbucket()"
   ]
  },
  {
   "cell_type": "code",
   "execution_count": 7,
   "metadata": {},
   "outputs": [],
   "source": [
    "qsam <- avtable(table = \"qsample\") %>% filter(!is.na(output_bam))"
   ]
  },
  {
   "cell_type": "code",
   "execution_count": 37,
   "metadata": {
    "code_folding": [],
    "scrolled": false
   },
   "outputs": [
    {
     "name": "stdout",
     "output_type": "stream",
     "text": [
      "alpha storage cp gs://fc-secure-5818fb38-baa7-40ff-b964-df05e0b8b0bd/345ea89b-a274-4b45-8e79-bda907e0db4b/netseq/4320d2d1-177d-4628-a440-2af13187e949/call-AlignReads/set2-1.mask_pos.bedgraph.gz /tmp/RtmpycAUEK/\n",
      "alpha storage cp gs://fc-secure-5818fb38-baa7-40ff-b964-df05e0b8b0bd/345ea89b-a274-4b45-8e79-bda907e0db4b/netseq/e6326931-e794-4341-94d8-71b179d76d30/call-AlignReads/set2-2.mask_pos.bedgraph.gz /tmp/RtmpycAUEK/\n",
      "alpha storage cp gs://fc-secure-5818fb38-baa7-40ff-b964-df05e0b8b0bd/345ea89b-a274-4b45-8e79-bda907e0db4b/netseq/4320d2d1-177d-4628-a440-2af13187e949/call-AlignReads/set2-1.mask_neg.bedgraph.gz /tmp/RtmpycAUEK/\n",
      "alpha storage cp gs://fc-secure-5818fb38-baa7-40ff-b964-df05e0b8b0bd/345ea89b-a274-4b45-8e79-bda907e0db4b/netseq/e6326931-e794-4341-94d8-71b179d76d30/call-AlignReads/set2-2.mask_neg.bedgraph.gz /tmp/RtmpycAUEK/\n",
      "alpha storage cp gs://fc-secure-5818fb38-baa7-40ff-b964-df05e0b8b0bd/345ea89b-a274-4b45-8e79-bda907e0db4b/netseq/4320d2d1-177d-4628-a440-2af13187e949/call-AlignReads/set2-1.pos.bedgraph.gz /tmp/RtmpycAUEK/\n",
      "alpha storage cp gs://fc-secure-5818fb38-baa7-40ff-b964-df05e0b8b0bd/345ea89b-a274-4b45-8e79-bda907e0db4b/netseq/e6326931-e794-4341-94d8-71b179d76d30/call-AlignReads/set2-2.pos.bedgraph.gz /tmp/RtmpycAUEK/\n",
      "alpha storage cp gs://fc-secure-5818fb38-baa7-40ff-b964-df05e0b8b0bd/345ea89b-a274-4b45-8e79-bda907e0db4b/netseq/4320d2d1-177d-4628-a440-2af13187e949/call-AlignReads/set2-1.neg.bedgraph.gz /tmp/RtmpycAUEK/\n",
      "alpha storage cp gs://fc-secure-5818fb38-baa7-40ff-b964-df05e0b8b0bd/345ea89b-a274-4b45-8e79-bda907e0db4b/netseq/e6326931-e794-4341-94d8-71b179d76d30/call-AlignReads/set2-2.neg.bedgraph.gz /tmp/RtmpycAUEK/\n"
     ]
    }
   ],
   "source": [
    "flist <- qsam[, c(\"mask_pos\", \"mask_neg\", \"bedgraph_pos\", \"bedgraph_neg\")]\n",
    "localList <- as_tibble(matrix_apply(flist, function(u) file.path(workdir,basename(u)))) # HACK use dplyr\n",
    "\n",
    "for (fn in unlist(flist)) {\n",
    "    cmd <- str_glue(\"alpha storage cp {fn} {workdir}/\")\n",
    "    print(cmd)\n",
    "    gcloud_cmd(cmd)\n",
    "}\n"
   ]
  },
  {
   "cell_type": "code",
   "execution_count": 45,
   "metadata": {},
   "outputs": [],
   "source": [
    "# TODO Report the samples\n",
    "nsd <- NETseqDataFromBedgraph(qsam$qsample_id,\n",
    "                            localList$bedgraph_pos, localList$bedgraph_neg,\n",
    "                            seqinfo = seqinfo(which))"
   ]
  },
  {
   "cell_type": "code",
   "execution_count": 49,
   "metadata": {},
   "outputs": [],
   "source": [
    "# TODO need \"which\" parameter for GPosExperiment\n",
    "# TODO add masks to the constructor\n",
    "for (i in seq_along(nsd)) {\n",
    "  m1 <- import(localList$mask_pos[i])\n",
    "  m2 <- import(localList$mask_neg[i])\n",
    "  strand(m1) <- \"+\"\n",
    "  strand(m2) <- \"-\"\n",
    "  mask(nsd[[i]]) <- sort(c(m1, m2))\n",
    "}\n"
   ]
  },
  {
   "cell_type": "code",
   "execution_count": 51,
   "metadata": {},
   "outputs": [],
   "source": [
    "e <- GPosExperiment(nsd, rowRanges = which)\n",
    "s <- scores(e, apply_mask = TRUE, zero_fill = TRUE)\n",
    "n_mask <- matrix_apply(s, function(u) sum(is.na(u$score)))\n",
    "\n",
    "n_s <- matrix_apply(s, function(u) sum(u$score, na.rm = TRUE))\n",
    "\n",
    "x.bar <- matrix_apply(s, function(u) mean(u$score, na.rm = TRUE))\n",
    "assay(e, \"x.bar\") <- x.bar\n",
    "prop.unmasked <- apply(GPosExperiment::mask(e), 2, function(u) sum(width(GRangesList(u))) / width(rowRanges(e)))\n",
    "assay(e, \"prop.unmasked\") <- prop.unmasked\n"
   ]
  },
  {
   "cell_type": "code",
   "execution_count": 53,
   "metadata": {},
   "outputs": [],
   "source": [
    "saveRDS(e, \"~/GPosMasked.rds\") #TODO parameterize file name ... do not use tmp or find a better way to delocalize"
   ]
  },
  {
   "cell_type": "code",
   "execution_count": 79,
   "metadata": {},
   "outputs": [
    {
     "data": {
      "text/plain": [
       "Copying file:///home/jupyter/GPosMasked.rds [Content-Type=application/octet-stream]...\n",
       "/ [0/1 files][    0.0 B/ 21.2 MiB]   0% Done                                    \r",
       "/ [1/1 files][ 21.2 MiB/ 21.2 MiB] 100% Done                                    \r\n",
       "Operation completed over 1 objects/21.2 MiB.                                     "
      ]
     },
     "metadata": {},
     "output_type": "display_data"
    }
   ],
   "source": [
    "avfiles_backup(\"/home/jupyter/GPosMasked.rds\")"
   ]
  },
  {
   "cell_type": "code",
   "execution_count": 77,
   "metadata": {
    "scrolled": true
   },
   "outputs": [
    {
     "data": {
      "image/png": "[encoded data removed]",
      "text/plain": [
       "Plot with title “Histogram of as.double(prop.unmasked)”"
      ]
     },
     "metadata": {
      "image/png": {
       "height": 420,
       "width": 420
      }
     },
     "output_type": "display_data"
    }
   ],
   "source": [
    "hist(as.double(prop.unmasked))"
   ]
  },
  {
   "cell_type": "code",
   "execution_count": null,
   "metadata": {},
   "outputs": [],
   "source": [
    "cor(prop.unmasked)\n",
    "mean(prop.unmasked == 0)"
   ]
  },
  {
   "cell_type": "code",
   "execution_count": 76,
   "metadata": {},
   "outputs": [
    {
     "data": {
      "text/html": [
       "<table class=\"dataframe\">\n",
       "<caption>A matrix: 1 × 21 of type dbl</caption>\n",
       "<thead>\n",
       "\t<tr><th scope=col>0%</th><th scope=col>5%</th><th scope=col>10%</th><th scope=col>15%</th><th scope=col>20%</th><th scope=col>25%</th><th scope=col>30%</th><th scope=col>35%</th><th scope=col>40%</th><th scope=col>45%</th><th scope=col>⋯</th><th scope=col>55%</th><th scope=col>60%</th><th scope=col>65%</th><th scope=col>70%</th><th scope=col>75%</th><th scope=col>80%</th><th scope=col>85%</th><th scope=col>90%</th><th scope=col>95%</th><th scope=col>100%</th></tr>\n",
       "</thead>\n",
       "<tbody>\n",
       "\t<tr><td>-0.66</td><td>-0.07</td><td>-0.04</td><td>-0.03</td><td>-0.03</td><td>-0.02</td><td>-0.02</td><td>-0.02</td><td>-0.01</td><td>-0.01</td><td>⋯</td><td>-0.01</td><td>0</td><td>0</td><td>0</td><td>0</td><td>0</td><td>0</td><td>0</td><td>0.01</td><td>0.31</td></tr>\n",
       "</tbody>\n",
       "</table>\n"
      ],
      "text/latex": [
       "A matrix: 1 × 21 of type dbl\n",
       "\\begin{tabular}{lllllllllllllllllllll}\n",
       " 0\\% & 5\\% & 10\\% & 15\\% & 20\\% & 25\\% & 30\\% & 35\\% & 40\\% & 45\\% & ⋯ & 55\\% & 60\\% & 65\\% & 70\\% & 75\\% & 80\\% & 85\\% & 90\\% & 95\\% & 100\\%\\\\\n",
       "\\hline\n",
       "\t -0.66 & -0.07 & -0.04 & -0.03 & -0.03 & -0.02 & -0.02 & -0.02 & -0.01 & -0.01 & ⋯ & -0.01 & 0 & 0 & 0 & 0 & 0 & 0 & 0 & 0.01 & 0.31\\\\\n",
       "\\end{tabular}\n"
      ],
      "text/markdown": [
       "\n",
       "A matrix: 1 × 21 of type dbl\n",
       "\n",
       "| 0% | 5% | 10% | 15% | 20% | 25% | 30% | 35% | 40% | 45% | ⋯ | 55% | 60% | 65% | 70% | 75% | 80% | 85% | 90% | 95% | 100% |\n",
       "|---|---|---|---|---|---|---|---|---|---|---|---|---|---|---|---|---|---|---|---|---|\n",
       "| -0.66 | -0.07 | -0.04 | -0.03 | -0.03 | -0.02 | -0.02 | -0.02 | -0.01 | -0.01 | ⋯ | -0.01 | 0 | 0 | 0 | 0 | 0 | 0 | 0 | 0.01 | 0.31 |\n",
       "\n"
      ],
      "text/plain": [
       "     0%    5%    10%   15%   20%   25%   30%   35%   40%   45%   ⋯ 55%   60%\n",
       "[1,] -0.66 -0.07 -0.04 -0.03 -0.03 -0.02 -0.02 -0.02 -0.01 -0.01 ⋯ -0.01 0  \n",
       "     65% 70% 75% 80% 85% 90% 95%  100%\n",
       "[1,] 0   0   0   0   0   0   0.01 0.31"
      ]
     },
     "metadata": {},
     "output_type": "display_data"
    }
   ],
   "source": [
    "x <- prop.unmasked[, 1] - prop.unmasked[, 2]\n",
    "xq <- round(quantile(x, seq(0, 1, .05)), 2)\n",
    "t(xq)"
   ]
  }
 ],
 "metadata": {
  "kernelspec": {
   "display_name": "R",
   "language": "R",
   "name": "ir"
  },
  "language_info": {
   "codemirror_mode": "r",
   "file_extension": ".r",
   "mimetype": "text/x-r-source",
   "name": "R",
   "pygments_lexer": "r",
   "version": "4.1.2"
  },
  "toc": {
   "base_numbering": 1,
   "nav_menu": {},
   "number_sections": true,
   "sideBar": true,
   "skip_h1_title": false,
   "title_cell": "Table of Contents",
   "title_sidebar": "Contents",
   "toc_cell": false,
   "toc_position": {},
   "toc_section_display": true,
   "toc_window_display": false
  }
 },
 "nbformat": 4,
 "nbformat_minor": 2
}
