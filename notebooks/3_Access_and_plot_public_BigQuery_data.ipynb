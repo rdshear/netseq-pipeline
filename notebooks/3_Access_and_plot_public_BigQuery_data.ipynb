{
 "cells": [
  {
   "cell_type": "markdown",
   "metadata": {
    "heading_collapsed": true
   },
   "source": [
    "# <font color=\"#FF6600\">(expand for tip)</font> <font color=\"#445555\">A note about opening notebooks in shared workspaces</font><a class=\"tocSkip\">"
   ]
  },
  {
   "cell_type": "markdown",
   "metadata": {
    "hidden": true
   },
   "source": [
    " <font color=\"#445555\">Please do not run or edit master copies of notebooks unless you intend to improve the code. As a general rule, it is good to be cautious when editing a notebook in a shared workspace, because you don't want to overwrite the work of your collaborators. Best practices is to test in a cloned workspace or duplicate notebook with an easily identifiable name.</font>  "
   ]
  },
  {
   "cell_type": "markdown",
   "metadata": {
    "heading_collapsed": true
   },
   "source": [
    "# <font color=\"#FF6600\">(expand for tip) </font> <font color=\"#445555\">What is BigQuery? <a class=\"tocSkip\"></font>"
   ]
  },
  {
   "cell_type": "markdown",
   "metadata": {
    "hidden": true
   },
   "source": [
    "<font color=\"#445555\">BigQuery is the Google Cloud Storage solution for structured data (like a spreadsheet optimized for quick retrieval of particular sections that you access with a \"query\"). To learn more, see this five-minute video from Google [here](https://www.youtube.com/watch?v=eyBK9nj-7AA). Many datasets, including the public-access 1,000 Genomes Project, are stored in BigQuery, for anyone to access."
   ]
  },
  {
   "cell_type": "markdown",
   "metadata": {},
   "source": [
    "# Notebook overview"
   ]
  },
  {
   "cell_type": "markdown",
   "metadata": {},
   "source": [
    "In some cases, you may want to access BigQuery data that doesn't have a Data Explorer. This notebook demonstrates two additional ways to access BigQuery data in an R-based notebook:\n",
    "1. Using SQL syntax\n",
    "2. Using only R code to extract the data of interest from BigQuery"
   ]
  },
  {
   "cell_type": "markdown",
   "metadata": {},
   "source": [
    "# R-environment setup\n",
    "\n",
    "First, be sure to run the general notebook **`1_R environment setup`** in this workspace.   \n",
    "\n",
    "Then run the cells below to add additional needed libraries, set the project id, and authorize the BigQuery client. Details about what each individual code cell does are included in green comments for reference. \n",
    "\n",
    "<font color=\"#445555\">**Note about pink warnings**    \n",
    "When you run these cells, output in a pink box does not signify that the code is broken, and will not affect how the notebook runs.</font>"
   ]
  },
  {
   "cell_type": "code",
   "execution_count": 1,
   "metadata": {
    "code_folding": []
   },
   "outputs": [
    {
     "name": "stderr",
     "output_type": "stream",
     "text": [
      "\n",
      "Attaching package: ‘dplyr’\n",
      "\n",
      "\n",
      "The following objects are masked from ‘package:stats’:\n",
      "\n",
      "    filter, lag\n",
      "\n",
      "\n",
      "The following objects are masked from ‘package:base’:\n",
      "\n",
      "    intersect, setdiff, setequal, union\n",
      "\n",
      "\n"
     ]
    }
   ],
   "source": [
    "# Load additional R libraries needed for this notebook into memory\n",
    "# There may be warnings in pink indicating that objects are 'masked'.  These warnings can be ignored. \n",
    "\n",
    "# The bigrquery package makes it easy to work with data stored in Google BigQuery by allowing you to query \n",
    "# BigQuery tables and retrieve metadata about your projects, datasets, tables, and jobs\n",
    "library(bigrquery)\n",
    "\n",
    "# ggplot2 is a library of integrated plotting functions\n",
    "library(ggplot2)\n",
    "\n",
    "# dplyr is an R package for working with structured data (like BigQuery) both in and outside of R\n",
    "library(dplyr)\n",
    "\n",
    "# skimr handles different data types and returns a skim_df object which can be included in a \n",
    "# tidyverse pipeline or displayed nicely for the human reader\n",
    "library(skimr)"
   ]
  },
  {
   "cell_type": "code",
   "execution_count": 2,
   "metadata": {},
   "outputs": [],
   "source": [
    "# Set the project ID of the clould project to bill for queries to BigQuery\n",
    "# Note that although you do pay a fee for the query in this notebook, it is very small (cents)\n",
    "BILLING_PROJECT_ID <- Sys.getenv('GOOGLE_PROJECT')"
   ]
  },
  {
   "cell_type": "code",
   "execution_count": 3,
   "metadata": {},
   "outputs": [],
   "source": [
    "# To access BigQuery, you must first autheniticate, or verify, your identity:\n",
    "bq_auth(path=WORKSPACE)"
   ]
  },
  {
   "cell_type": "markdown",
   "metadata": {},
   "source": [
    "# Retrieve filtered data"
   ]
  },
  {
   "cell_type": "markdown",
   "metadata": {},
   "source": [
    "Now that we've set up the virtual compute environment, BigQuery authentication and billing, let’s retrieve a subset of fields and samples metadata in the [1000 Genomes](http://www.internationalgenome.org/data \"1000 Genomes\") dataset.\n",
    "\n",
    "We will do this in two different ways. Both return the same results.\n",
    "\n",
    "1. Using bigrquery (standard SQL)\n",
    "2. Using dplyr and dbplyr"
   ]
  },
  {
   "cell_type": "markdown",
   "metadata": {},
   "source": [
    "## Option 1: Using bigrquery (SQL)"
   ]
  },
  {
   "cell_type": "markdown",
   "metadata": {},
   "source": [
    "To learn more about SQL syntax see the [BigQuery standard SQL reference](https://cloud.google.com/bigquery/docs/reference/standard-sql/)."
   ]
  },
  {
   "cell_type": "code",
   "execution_count": 4,
   "metadata": {},
   "outputs": [],
   "source": [
    "# Run a query from the public-access 1,000 genomes data in BigQuery with standard SQL \n",
    "# This query selects a subset of ten parameters from the dataset (`Sample`, `Gender`, etc.)\n",
    "phase1_samples_tbl <- bigrquery::bq_project_query(\n",
    "    BILLING_PROJECT_ID,\n",
    "    query = '\n",
    "SELECT\n",
    "  Sample,\n",
    "  Gender,\n",
    "  Relationship,\n",
    "  Population,\n",
    "  Population_Description,\n",
    "  Super_Population,\n",
    "  Super_Population_Description,\n",
    "  Total_Exome_Sequence,\n",
    "  Main_Project_E_Platform,\n",
    "  Main_Project_E_Centers\n",
    "FROM\n",
    "  `bigquery-public-data.human_genome_variants.1000_genomes_sample_info`\n",
    "WHERE\n",
    "  -- Only include information for samples in phase 1.\n",
    "  In_Phase1_Integrated_Variant_Set = TRUE\n",
    "  -- Only include information for samples with these relationships.\n",
    "  AND Relationship IN (\"\", \"unrel\", \"child\", \"father\", \"mother\",\n",
    "  \"mat grandmother\", \"pat grandmother\",\n",
    "  \"mat grandfather\", \"pat grandfather\")\n",
    "')\n",
    "\n",
    "phase1_samples <- bigrquery::bq_table_download(phase1_samples_tbl)"
   ]
  },
  {
   "cell_type": "code",
   "execution_count": 5,
   "metadata": {},
   "outputs": [
    {
     "data": {
      "text/html": [
       "<style>\n",
       ".list-inline {list-style: none; margin:0; padding: 0}\n",
       ".list-inline>li {display: inline-block}\n",
       ".list-inline>li:not(:last-child)::after {content: \"\\00b7\"; padding: 0 .5ex}\n",
       "</style>\n",
       "<ol class=list-inline><li>1086</li><li>10</li></ol>\n"
      ],
      "text/latex": [
       "\\begin{enumerate*}\n",
       "\\item 1086\n",
       "\\item 10\n",
       "\\end{enumerate*}\n"
      ],
      "text/markdown": [
       "1. 1086\n",
       "2. 10\n",
       "\n",
       "\n"
      ],
      "text/plain": [
       "[1] 1086   10"
      ]
     },
     "metadata": {},
     "output_type": "display_data"
    }
   ],
   "source": [
    "# Print out the dimensions of the table (should be 1086 rows and 10 columns were retrieved into the \"phase1_samples\") table\n",
    "dim(phase1_samples)"
   ]
  },
  {
   "cell_type": "code",
   "execution_count": 6,
   "metadata": {},
   "outputs": [
    {
     "name": "stdout",
     "output_type": "stream",
     "text": [
      "── Data Summary ────────────────────────\n",
      "                           Values        \n",
      "Name                       phase1_samples\n",
      "Number of rows             1086          \n",
      "Number of columns          10            \n",
      "_______________________                  \n",
      "Column type frequency:                   \n",
      "  character                9             \n",
      "  numeric                  1             \n",
      "________________________                 \n",
      "Group variables            None          \n",
      "\n",
      "── Variable type: character ────────────────────────────────────────────────────\n",
      "  skim_variable                n_missing complete_rate   min   max empty\n",
      "1 Sample                               0             1     7     7     0\n",
      "2 Gender                               0             1     4     6     0\n",
      "3 Relationship                         0             1     0    15   559\n",
      "4 Population                           0             1     3     3     0\n",
      "5 Population_Description               0             1    16    58     0\n",
      "6 Super_Population                     0             1     3     3     0\n",
      "7 Super_Population_Description         0             1     7    10     0\n",
      "8 Main_Project_E_Platform              0             1     0     8    23\n",
      "9 Main_Project_E_Centers               0             1     0     5    23\n",
      "  n_unique whitespace\n",
      "1     1086          0\n",
      "2        2          0\n",
      "3        8          0\n",
      "4       14          0\n",
      "5       14          0\n",
      "6        4          0\n",
      "7        4          0\n",
      "8        2          0\n",
      "9        5          0\n",
      "\n",
      "── Variable type: numeric ──────────────────────────────────────────────────────\n",
      "  skim_variable        n_missing complete_rate         mean          sd\n",
      "1 Total_Exome_Sequence        23         0.979 10260629886. 3833832512.\n",
      "          p0         p25        p50         p75        p100 hist \n",
      "1 2477265279 8064489682. 9723977600 11351249820 35117090100 ▅▇▁▁▁\n"
     ]
    }
   ],
   "source": [
    "# Output summary statistics of the samples (sanity check)\n",
    "print(skim(phase1_samples))"
   ]
  },
  {
   "cell_type": "code",
   "execution_count": 7,
   "metadata": {},
   "outputs": [
    {
     "data": {
      "image/png": "[encoded data removed]",
      "text/plain": [
       "plot without title"
      ]
     },
     "metadata": {
      "image/png": {
       "height": 420,
       "width": 420
      }
     },
     "output_type": "display_data"
    }
   ],
   "source": [
    "# Plot the relationship of individuals contained in the data set\n",
    "# The null condition (first column) indicates that no individuals were related to this person\n",
    "ggplot(data = phase1_samples,\n",
    "       aes(x=Relationship, fill=Relationship)) +\n",
    "  geom_bar() +\n",
    "  theme(axis.text.x = element_text(angle = 50, hjust = 1, vjust = 1))"
   ]
  },
  {
   "cell_type": "markdown",
   "metadata": {},
   "source": [
    "## Option 2: Using dplyr"
   ]
  },
  {
   "cell_type": "markdown",
   "metadata": {},
   "source": [
    "**dplyr** is an R package that provides a common set of \"verbs\" to manipulate tabular data.\n",
    "\n",
    "To learn more about dplyr see [R for Data Science Chapter 5 Data transformation](http://r4ds.had.co.nz/transform.html \"Chapter 5\")."
   ]
  },
  {
   "cell_type": "code",
   "execution_count": 8,
   "metadata": {},
   "outputs": [],
   "source": [
    "# Create a \"connection\" to a public BigQuery dataset\n",
    "dbcon <- bigrquery::src_bigquery(project = 'bigquery-public-data',\n",
    "                                 dataset = 'human_genome_variants',\n",
    "                                 billing = BILLING_PROJECT_ID)\n",
    "\n",
    "# Create a 'virtual dataframe' backed by a BigQuery table\n",
    "sample_info <- dplyr::tbl(dbcon, '1000_genomes_sample_info')"
   ]
  },
  {
   "cell_type": "code",
   "execution_count": 9,
   "metadata": {},
   "outputs": [],
   "source": [
    "# Filter to only include information for samples in phase 1 with the relationshionships below\n",
    "phase1_only <- sample_info %>% filter(\n",
    "    In_Phase1_Integrated_Variant_Set == TRUE,\n",
    "    Relationship %in% c(\n",
    "      '', 'unrel', 'child', 'father', 'mother',\n",
    "      'mat grandmother', 'pat grandmother',\n",
    "      'mat grandfather', 'pat grandfather')\n",
    "  )\n",
    "\n",
    "# Nothing is computed on BigQuery yet."
   ]
  },
  {
   "cell_type": "code",
   "execution_count": 10,
   "metadata": {},
   "outputs": [],
   "source": [
    "# Define a variable, \"sample_fields\", with the included parameters\n",
    "sample_fields <- phase1_only %>% select(\n",
    "  Sample,\n",
    "  Gender,\n",
    "  Relationship,\n",
    "  Population,\n",
    "  Population_Description,\n",
    "  Super_Population,\n",
    "  Super_Population_Description,\n",
    "  Total_Exome_Sequence,\n",
    "  Main_Project_E_Platform,\n",
    "  Main_Project_E_Centers\n",
    "  )\n",
    "\n",
    "# Still nothing computed on BigQuery."
   ]
  },
  {
   "cell_type": "code",
   "execution_count": 11,
   "metadata": {},
   "outputs": [
    {
     "name": "stdout",
     "output_type": "stream",
     "text": [
      "<SQL>\n",
      "SELECT `Sample`, `Gender`, `Relationship`, `Population`, `Population_Description`, `Super_Population`, `Super_Population_Description`, `Total_Exome_Sequence`, `Main_Project_E_Platform`, `Main_Project_E_Centers`\n",
      "FROM `1000_genomes_sample_info`\n",
      "WHERE ((`In_Phase1_Integrated_Variant_Set` = TRUE) AND (`Relationship` IN ('', 'unrel', 'child', 'father', 'mother', 'mat grandmother', 'pat grandmother', 'mat grandfather', 'pat grandfather')))\n"
     ]
    }
   ],
   "source": [
    "# Optional sanity check: Take a look at the SQL\n",
    "dplyr::show_query(sample_fields)"
   ]
  },
  {
   "cell_type": "code",
   "execution_count": 12,
   "metadata": {},
   "outputs": [
    {
     "data": {
      "text/html": [
       "<table class=\"dataframe\">\n",
       "<caption>A tibble: 1 × 1</caption>\n",
       "<thead>\n",
       "\t<tr><th scope=col>cnt</th></tr>\n",
       "\t<tr><th scope=col>&lt;int&gt;</th></tr>\n",
       "</thead>\n",
       "<tbody>\n",
       "\t<tr><td>1086</td></tr>\n",
       "</tbody>\n",
       "</table>\n"
      ],
      "text/latex": [
       "A tibble: 1 × 1\n",
       "\\begin{tabular}{l}\n",
       " cnt\\\\\n",
       " <int>\\\\\n",
       "\\hline\n",
       "\t 1086\\\\\n",
       "\\end{tabular}\n"
      ],
      "text/markdown": [
       "\n",
       "A tibble: 1 × 1\n",
       "\n",
       "| cnt &lt;int&gt; |\n",
       "|---|\n",
       "| 1086 |\n",
       "\n"
      ],
      "text/plain": [
       "  cnt \n",
       "1 1086"
      ]
     },
     "metadata": {},
     "output_type": "display_data"
    }
   ],
   "source": [
    "# Optional: See how much data this will return\n",
    "sample_fields %>% summarize(cnt = n()) %>% collect()"
   ]
  },
  {
   "cell_type": "code",
   "execution_count": 13,
   "metadata": {},
   "outputs": [],
   "source": [
    "# Execute the query and return all results into an in-memory table in R\n",
    "phase1_samples <- sample_fields %>% collect()"
   ]
  },
  {
   "cell_type": "code",
   "execution_count": 14,
   "metadata": {},
   "outputs": [
    {
     "data": {
      "text/html": [
       "<style>\n",
       ".list-inline {list-style: none; margin:0; padding: 0}\n",
       ".list-inline>li {display: inline-block}\n",
       ".list-inline>li:not(:last-child)::after {content: \"\\00b7\"; padding: 0 .5ex}\n",
       "</style>\n",
       "<ol class=list-inline><li>1086</li><li>10</li></ol>\n"
      ],
      "text/latex": [
       "\\begin{enumerate*}\n",
       "\\item 1086\n",
       "\\item 10\n",
       "\\end{enumerate*}\n"
      ],
      "text/markdown": [
       "1. 1086\n",
       "2. 10\n",
       "\n",
       "\n"
      ],
      "text/plain": [
       "[1] 1086   10"
      ]
     },
     "metadata": {},
     "output_type": "display_data"
    }
   ],
   "source": [
    "# Sanity check: What are the dimensions of the phase1_sample table?\n",
    "dim(phase1_samples)"
   ]
  },
  {
   "cell_type": "code",
   "execution_count": 15,
   "metadata": {},
   "outputs": [
    {
     "data": {
      "image/png": "[encoded data removed]",
      "text/plain": [
       "plot without title"
      ]
     },
     "metadata": {
      "image/png": {
       "height": 420,
       "width": 420
      }
     },
     "output_type": "display_data"
    }
   ],
   "source": [
    "# Plot results\n",
    "ggplot(data = phase1_samples,\n",
    "       aes(x=Relationship, fill=Relationship)) +\n",
    "  geom_bar() +\n",
    "  theme(axis.text.x = element_text(angle = 50, hjust = 1, vjust = 1))"
   ]
  },
  {
   "cell_type": "markdown",
   "metadata": {},
   "source": [
    "# Provenance"
   ]
  },
  {
   "cell_type": "code",
   "execution_count": 16,
   "metadata": {},
   "outputs": [
    {
     "data": {
      "text/plain": [
       "─ Session info ───────────────────────────────────────────────────────────────\n",
       " setting  value                       \n",
       " version  R version 4.1.1 (2021-08-10)\n",
       " os       Ubuntu 18.04.5 LTS          \n",
       " system   x86_64, linux-gnu           \n",
       " ui       X11                         \n",
       " language (EN)                        \n",
       " collate  en_US.UTF-8                 \n",
       " ctype    en_US.UTF-8                 \n",
       " tz       Etc/UTC                     \n",
       " date     2021-10-12                  \n",
       "\n",
       "─ Packages ───────────────────────────────────────────────────────────────────\n",
       " package     * version date       lib source        \n",
       " assertthat    0.2.1   2019-03-21 [2] CRAN (R 4.1.1)\n",
       " base64enc     0.1-3   2015-07-28 [2] CRAN (R 4.1.1)\n",
       " bigrquery   * 1.4.0   2021-08-05 [2] CRAN (R 4.1.1)\n",
       " bit           4.0.4   2020-08-04 [2] CRAN (R 4.1.1)\n",
       " bit64         4.0.5   2020-08-30 [2] CRAN (R 4.1.1)\n",
       " blob          1.2.2   2021-07-23 [2] CRAN (R 4.1.1)\n",
       " cachem        1.0.6   2021-08-19 [2] CRAN (R 4.1.1)\n",
       " callr         3.7.0   2021-04-20 [2] CRAN (R 4.1.1)\n",
       " cli           3.0.1   2021-07-17 [2] CRAN (R 4.1.1)\n",
       " colorspace    2.0-2   2021-06-24 [2] CRAN (R 4.1.1)\n",
       " crayon        1.4.1   2021-02-08 [2] CRAN (R 4.1.1)\n",
       " curl          4.3.2   2021-06-23 [2] CRAN (R 4.1.1)\n",
       " DBI           1.1.1   2021-01-15 [2] CRAN (R 4.1.1)\n",
       " dbplyr        2.1.1   2021-04-06 [2] CRAN (R 4.1.1)\n",
       " desc          1.3.0   2021-03-05 [2] CRAN (R 4.1.1)\n",
       " devtools      2.4.2   2021-06-07 [2] CRAN (R 4.1.1)\n",
       " digest        0.6.27  2020-10-24 [2] CRAN (R 4.1.1)\n",
       " dplyr       * 1.0.7   2021-06-18 [2] CRAN (R 4.1.1)\n",
       " ellipsis      0.3.2   2021-04-29 [2] CRAN (R 4.1.1)\n",
       " evaluate      0.14    2019-05-28 [2] CRAN (R 4.1.1)\n",
       " fansi         0.5.0   2021-05-25 [2] CRAN (R 4.1.1)\n",
       " farver        2.1.0   2021-02-28 [2] CRAN (R 4.1.1)\n",
       " fastmap       1.1.0   2021-01-25 [2] CRAN (R 4.1.1)\n",
       " fs            1.5.0   2020-07-31 [2] CRAN (R 4.1.1)\n",
       " gargle        1.2.0   2021-07-02 [2] CRAN (R 4.1.1)\n",
       " generics      0.1.0   2020-10-31 [2] CRAN (R 4.1.1)\n",
       " ggplot2     * 3.3.5   2021-06-25 [2] CRAN (R 4.1.1)\n",
       " glue          1.4.2   2020-08-27 [2] CRAN (R 4.1.1)\n",
       " gtable        0.3.0   2019-03-25 [2] CRAN (R 4.1.1)\n",
       " hms           1.1.0   2021-05-17 [2] CRAN (R 4.1.1)\n",
       " htmltools     0.5.2   2021-08-25 [2] CRAN (R 4.1.1)\n",
       " httr          1.4.2   2020-07-20 [2] CRAN (R 4.1.1)\n",
       " IRdisplay     1.0     2021-01-20 [2] CRAN (R 4.1.1)\n",
       " IRkernel      1.2     2021-05-11 [2] CRAN (R 4.1.1)\n",
       " jsonlite      1.7.2   2020-12-09 [2] CRAN (R 4.1.1)\n",
       " knitr         1.34    2021-09-09 [2] CRAN (R 4.1.1)\n",
       " labeling      0.4.2   2020-10-20 [2] CRAN (R 4.1.1)\n",
       " lifecycle     1.0.0   2021-02-15 [2] CRAN (R 4.1.1)\n",
       " magrittr      2.0.1   2020-11-17 [2] CRAN (R 4.1.1)\n",
       " memoise       2.0.0   2021-01-26 [2] CRAN (R 4.1.1)\n",
       " munsell       0.5.0   2018-06-12 [2] CRAN (R 4.1.1)\n",
       " pbdZMQ        0.3-5   2021-02-10 [2] CRAN (R 4.1.1)\n",
       " pillar        1.6.2   2021-07-29 [2] CRAN (R 4.1.1)\n",
       " pkgbuild      1.2.0   2020-12-15 [2] CRAN (R 4.1.1)\n",
       " pkgconfig     2.0.3   2019-09-22 [2] CRAN (R 4.1.1)\n",
       " pkgload       1.2.2   2021-09-11 [2] CRAN (R 4.1.1)\n",
       " prettyunits   1.1.1   2020-01-24 [2] CRAN (R 4.1.1)\n",
       " processx      3.5.2   2021-04-30 [2] CRAN (R 4.1.1)\n",
       " ps            1.6.0   2021-02-28 [2] CRAN (R 4.1.1)\n",
       " purrr         0.3.4   2020-04-17 [2] CRAN (R 4.1.1)\n",
       " R6            2.5.1   2021-08-19 [2] CRAN (R 4.1.1)\n",
       " Rcpp          1.0.7   2021-07-07 [2] CRAN (R 4.1.1)\n",
       " readr         2.0.1   2021-08-10 [2] CRAN (R 4.1.1)\n",
       " remotes       2.4.0   2021-06-02 [2] CRAN (R 4.1.1)\n",
       " repr          1.1.3   2021-01-21 [2] CRAN (R 4.1.1)\n",
       " rlang         0.4.11  2021-04-30 [2] CRAN (R 4.1.1)\n",
       " rprojroot     2.0.2   2020-11-15 [2] CRAN (R 4.1.1)\n",
       " scales        1.1.1   2020-05-11 [2] CRAN (R 4.1.1)\n",
       " sessioninfo   1.1.1   2018-11-05 [2] CRAN (R 4.1.1)\n",
       " skimr       * 2.1.3   2021-03-07 [1] CRAN (R 4.1.1)\n",
       " stringi       1.7.4   2021-08-25 [2] CRAN (R 4.1.1)\n",
       " stringr       1.4.0   2019-02-10 [2] CRAN (R 4.1.1)\n",
       " testthat      3.0.4   2021-07-01 [2] CRAN (R 4.1.1)\n",
       " tibble        3.1.4   2021-08-25 [2] CRAN (R 4.1.1)\n",
       " tidyr         1.1.3   2021-03-03 [2] CRAN (R 4.1.1)\n",
       " tidyselect    1.1.1   2021-04-30 [2] CRAN (R 4.1.1)\n",
       " tzdb          0.1.2   2021-07-20 [2] CRAN (R 4.1.1)\n",
       " usethis       2.0.1   2021-02-10 [2] CRAN (R 4.1.1)\n",
       " utf8          1.2.2   2021-07-24 [2] CRAN (R 4.1.1)\n",
       " uuid          0.1-4   2020-02-26 [2] CRAN (R 4.1.1)\n",
       " vctrs         0.3.8   2021-04-29 [2] CRAN (R 4.1.1)\n",
       " withr         2.4.2   2021-04-18 [2] CRAN (R 4.1.1)\n",
       " xfun          0.26    2021-09-14 [2] CRAN (R 4.1.1)\n",
       "\n",
       "[1] /home/jupyter/notebooks/packages\n",
       "[2] /usr/local/lib/R/site-library\n",
       "[3] /usr/lib/R/site-library\n",
       "[4] /usr/lib/R/library"
      ]
     },
     "metadata": {},
     "output_type": "display_data"
    }
   ],
   "source": [
    "# Including this information allows you to easly go back and see the details of your notebook environment\n",
    "# Provenance is also recommended as Best Practices for reproducible research\n",
    "devtools::session_info()"
   ]
  },
  {
   "cell_type": "markdown",
   "metadata": {},
   "source": [
    "Copyright 2019 The Broad Institute, Inc., Verily Life Sciences, LLC All rights reserved.\n",
    "\n",
    "This software may be modified and distributed under the terms of the BSD license. See the LICENSE file for details."
   ]
  }
 ],
 "metadata": {
  "kernelspec": {
   "display_name": "R",
   "language": "R",
   "name": "ir"
  },
  "language_info": {
   "codemirror_mode": "r",
   "file_extension": ".r",
   "mimetype": "text/x-r-source",
   "name": "R",
   "pygments_lexer": "r",
   "version": "4.1.1"
  },
  "toc": {
   "base_numbering": 1,
   "nav_menu": {},
   "number_sections": true,
   "sideBar": true,
   "skip_h1_title": false,
   "title_cell": "Table of Contents",
   "title_sidebar": "Contents",
   "toc_cell": false,
   "toc_position": {
    "height": "calc(100% - 180px)",
    "left": "10px",
    "top": "150px",
    "width": "311.516px"
   },
   "toc_section_display": true,
   "toc_window_display": true
  }
 },
 "nbformat": 4,
 "nbformat_minor": 2
}
